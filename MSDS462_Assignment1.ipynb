{
  "nbformat": 4,
  "nbformat_minor": 0,
  "metadata": {
    "colab": {
      "name": "MSDS462_Assignment1.ipynb",
      "provenance": [],
      "collapsed_sections": [],
      "include_colab_link": true
    },
    "kernelspec": {
      "name": "python3",
      "display_name": "Python 3"
    },
    "language_info": {
      "name": "python"
    },
    "accelerator": "TPU"
  },
  "cells": [
    {
      "cell_type": "markdown",
      "metadata": {
        "id": "view-in-github",
        "colab_type": "text"
      },
      "source": [
        "<a href=\"https://colab.research.google.com/github/parviza9999/MSDS462/blob/main/MSDS462_Assignment1.ipynb\" target=\"_parent\"><img src=\"https://colab.research.google.com/assets/colab-badge.svg\" alt=\"Open In Colab\"/></a>"
      ]
    },
    {
      "cell_type": "markdown",
      "source": [
        "# **Fashion MNIST** <br>\n",
        "An MNIST-like dataset of 70,000 28x28 labeled fashion images"
      ],
      "metadata": {
        "id": "inFbTc8FGAhI"
      }
    },
    {
      "cell_type": "markdown",
      "source": [
        "# Importing packages as needed"
      ],
      "metadata": {
        "id": "oJjWx15_G68f"
      }
    },
    {
      "cell_type": "code",
      "execution_count": null,
      "metadata": {
        "id": "eq39dfREF0bj"
      },
      "outputs": [],
      "source": [
        "import datetime\n",
        "from packaging import version\n",
        "from collections import Counter\n",
        "import numpy as np\n",
        "import pandas as pd\n",
        "\n",
        "import matplotlib as mpl  \n",
        "import matplotlib.pyplot as plt\n",
        "from mpl_toolkits.mplot3d import Axes3D\n",
        "import seaborn as sns\n",
        "\n",
        "from sklearn import metrics\n",
        "from sklearn.metrics import confusion_matrix, classification_report\n",
        "from sklearn.preprocessing import StandardScaler\n",
        "from sklearn.decomposition import PCA\n",
        "from sklearn.manifold import TSNE\n",
        "from sklearn.ensemble import RandomForestClassifier\n",
        "from sklearn.metrics import mean_squared_error as MSE\n",
        "from sklearn import preprocessing\n",
        "from sklearn.model_selection import GridSearchCV\n",
        "from sklearn.preprocessing import OneHotEncoder\n",
        "from sklearn.model_selection import train_test_split #for split the data\n",
        "from sklearn.metrics import accuracy_score ,precision_score,recall_score,f1_score ,precision_recall_fscore_support #for accuracy_score\n",
        "from sklearn.metrics import confusion_matrix #for confusion matrix\n",
        "from sklearn.model_selection import KFold #for K-fold cross validation\n",
        "from sklearn.model_selection import cross_val_score #score evaluation\n",
        "from sklearn.model_selection import cross_val_predict #prediction\n",
        "\n",
        "import tensorflow as tf\n",
        "from tensorflow.keras.utils import to_categorical\n",
        "from tensorflow import keras\n",
        "from tensorflow.keras import models\n",
        "from tensorflow.keras.models import Sequential\n",
        "from tensorflow.keras.layers import Dense, Flatten , Input , Dropout\n",
        "from tensorflow.keras.datasets import mnist\n",
        "#from plot_keras_history import plot_history\n",
        "\n",
        "import warnings\n",
        "warnings.filterwarnings('ignore')"
      ]
    },
    {
      "cell_type": "code",
      "source": [
        "# Allows for muliple output in one cell window\n",
        "from IPython.core.interactiveshell import InteractiveShell\n",
        "InteractiveShell.ast_node_interactivity = \"all\""
      ],
      "metadata": {
        "id": "r4ZAbeYXHHg-"
      },
      "execution_count": null,
      "outputs": []
    },
    {
      "cell_type": "code",
      "source": [
        " import tensorflow as tf;\n",
        " print(tf.__version__);"
      ],
      "metadata": {
        "colab": {
          "base_uri": "https://localhost:8080/"
        },
        "id": "lAomc2vYHKTA",
        "outputId": "1742bbcb-c909-4f55-aae1-2021b6719cde"
      },
      "execution_count": null,
      "outputs": [
        {
          "output_type": "stream",
          "name": "stdout",
          "text": [
            "2.7.0\n"
          ]
        }
      ]
    },
    {
      "cell_type": "markdown",
      "source": [
        "# Get Data and Setup"
      ],
      "metadata": {
        "id": "al32yod7JIVn"
      }
    },
    {
      "cell_type": "code",
      "source": [
        "from google.colab import drive\n",
        "drive.mount('/content/gdrive')"
      ],
      "metadata": {
        "colab": {
          "base_uri": "https://localhost:8080/"
        },
        "id": "d58f8TsMJJFY",
        "outputId": "c33fdafd-3f3a-4b37-8caa-580a0a8e71a2"
      },
      "execution_count": null,
      "outputs": [
        {
          "output_type": "stream",
          "name": "stdout",
          "text": [
            "Drive already mounted at /content/gdrive; to attempt to forcibly remount, call drive.mount(\"/content/gdrive\", force_remount=True).\n"
          ]
        }
      ]
    },
    {
      "cell_type": "code",
      "source": [
        "import os\n",
        "from google.colab import drive\n",
        "import gzip\n",
        "#gdrive_dir_path = '/content/gdrive/My Drive/Colab Notebooks/data' # TODO: update path to your gdrive location\n",
        "#os.chdir(gdrive_dir_path)\n",
        "os.listdir()"
      ],
      "metadata": {
        "colab": {
          "base_uri": "https://localhost:8080/"
        },
        "id": "fB_a0SkTJTVW",
        "outputId": "8a3c4364-c6a7-4836-fccc-0027a7324007"
      },
      "execution_count": null,
      "outputs": [
        {
          "output_type": "execute_result",
          "data": {
            "text/plain": [
              "['.config',\n",
              " 'CNN_4.png',\n",
              " 'CNN_2.png',\n",
              " 'CNN_1.png',\n",
              " 'gdrive',\n",
              " 'DNN.png',\n",
              " 'sample_data']"
            ]
          },
          "metadata": {},
          "execution_count": 65
        }
      ]
    },
    {
      "cell_type": "code",
      "source": [
        "(x_train, y_train), (x_test, y_test)= tf.keras.datasets.fashion_mnist.load_data()"
      ],
      "metadata": {
        "id": "WnIWyrJpJ-xK"
      },
      "execution_count": null,
      "outputs": []
    },
    {
      "cell_type": "code",
      "source": [
        "print(\"The shape of x train and x test dataset :\" , x_train.shape ,x_test.shape)\n",
        "print(\"The shape of y train and y test dataset :\" , y_train.shape ,y_test.shape)"
      ],
      "metadata": {
        "colab": {
          "base_uri": "https://localhost:8080/"
        },
        "id": "PW3k4NaoKLmx",
        "outputId": "a6a4c75e-2be7-41ff-9963-95c39948898e"
      },
      "execution_count": null,
      "outputs": [
        {
          "output_type": "stream",
          "name": "stdout",
          "text": [
            "The shape of x train and x test dataset : (60000, 28, 28) (10000, 28, 28)\n",
            "The shape of y train and y test dataset : (60000,) (10000,)\n"
          ]
        }
      ]
    },
    {
      "cell_type": "code",
      "source": [
        "#Reviewing the max and min value in the train dataset\n",
        "x_train.min(), x_train.max()"
      ],
      "metadata": {
        "colab": {
          "base_uri": "https://localhost:8080/"
        },
        "id": "F8dzIfgvKifx",
        "outputId": "3524d261-f19c-4fef-81a5-bd53d18171ed"
      },
      "execution_count": null,
      "outputs": [
        {
          "output_type": "execute_result",
          "data": {
            "text/plain": [
              "(0, 255)"
            ]
          },
          "metadata": {},
          "execution_count": 68
        }
      ]
    },
    {
      "cell_type": "code",
      "source": [
        "#Reviewing the datatype \n",
        "x_train.dtype , x_test.dtype"
      ],
      "metadata": {
        "colab": {
          "base_uri": "https://localhost:8080/"
        },
        "id": "b8xZfyvMLdv3",
        "outputId": "d9bfd243-f5ca-4646-8eb8-72f2b0c14749"
      },
      "execution_count": null,
      "outputs": [
        {
          "output_type": "execute_result",
          "data": {
            "text/plain": [
              "(dtype('uint8'), dtype('uint8'))"
            ]
          },
          "metadata": {},
          "execution_count": 69
        }
      ]
    },
    {
      "cell_type": "code",
      "source": [
        "#Printing few of the observations for review\n",
        "print(\"First ten labels training dataset:\\n {}\\n\".format(y_train[0:10]))"
      ],
      "metadata": {
        "colab": {
          "base_uri": "https://localhost:8080/"
        },
        "id": "2-cyRVmWKjrY",
        "outputId": "f3eefc4d-8f82-41c6-9516-fe32c35aaf8c"
      },
      "execution_count": null,
      "outputs": [
        {
          "output_type": "stream",
          "name": "stdout",
          "text": [
            "First ten labels training dataset:\n",
            " [9 0 0 3 0 2 7 2 5 5]\n",
            "\n"
          ]
        }
      ]
    },
    {
      "cell_type": "markdown",
      "source": [
        "0=T-shirt/top <br>\n",
        "1=Trouser <br>\n",
        "2=Pullover <br>\n",
        "3=Dress <br>\n",
        "4=Coat <br>\n",
        "5=Sandal <br>\n",
        "6=Shirt <br>\n",
        "7=Sneaker <br>\n",
        "8=Bag <br>\n",
        "9=Ankle boot"
      ],
      "metadata": {
        "id": "XCGTpZWzN0hB"
      }
    },
    {
      "cell_type": "markdown",
      "source": [
        "# Missing value check"
      ],
      "metadata": {
        "id": "QkPOgINvLiSV"
      }
    },
    {
      "cell_type": "code",
      "source": [
        "#Checking if there is null in x_train or x_test\n",
        "np.all(np.isnan(x_train)) , np.all(np.isnan(x_test))"
      ],
      "metadata": {
        "colab": {
          "base_uri": "https://localhost:8080/"
        },
        "id": "r9h6fyC7Lkyh",
        "outputId": "05b4d445-52d8-4ddf-c233-066b5aa1c61e"
      },
      "execution_count": null,
      "outputs": [
        {
          "output_type": "execute_result",
          "data": {
            "text/plain": [
              "(False, False)"
            ]
          },
          "metadata": {},
          "execution_count": 71
        }
      ]
    },
    {
      "cell_type": "markdown",
      "source": [
        "No data is missing across all columns"
      ],
      "metadata": {
        "id": "M7oEywMlLsLG"
      }
    },
    {
      "cell_type": "markdown",
      "source": [
        "# Plotting the Fashion MNIST images"
      ],
      "metadata": {
        "id": "IB_BYurmLKZM"
      }
    },
    {
      "cell_type": "code",
      "source": [
        "fig = plt.figure(figsize = (15, 9))\n",
        "\n",
        "for i in range(50):\n",
        "    plt.subplot(5, 10, 1+i)\n",
        "    plt.title(y_train[i])\n",
        "    plt.xticks([])\n",
        "    plt.yticks([])\n",
        "    plt.imshow(x_train[i].reshape(28,28), cmap='binary')"
      ],
      "metadata": {
        "colab": {
          "base_uri": "https://localhost:8080/",
          "height": 1000
        },
        "id": "5SRnwKuIK-Bg",
        "outputId": "8e29fb74-bdbd-4707-b2dd-740e15105df3"
      },
      "execution_count": null,
      "outputs": [
        {
          "output_type": "execute_result",
          "data": {
            "text/plain": [
              "<matplotlib.axes._subplots.AxesSubplot at 0x7f1ffed73ad0>"
            ]
          },
          "metadata": {},
          "execution_count": 72
        },
        {
          "output_type": "execute_result",
          "data": {
            "text/plain": [
              "Text(0.5, 1.0, '9')"
            ]
          },
          "metadata": {},
          "execution_count": 72
        },
        {
          "output_type": "execute_result",
          "data": {
            "text/plain": [
              "([], <a list of 0 Text major ticklabel objects>)"
            ]
          },
          "metadata": {},
          "execution_count": 72
        },
        {
          "output_type": "execute_result",
          "data": {
            "text/plain": [
              "([], <a list of 0 Text major ticklabel objects>)"
            ]
          },
          "metadata": {},
          "execution_count": 72
        },
        {
          "output_type": "execute_result",
          "data": {
            "text/plain": [
              "<matplotlib.image.AxesImage at 0x7f1ffeb1a210>"
            ]
          },
          "metadata": {},
          "execution_count": 72
        },
        {
          "output_type": "execute_result",
          "data": {
            "text/plain": [
              "<matplotlib.axes._subplots.AxesSubplot at 0x7f1ffedfc250>"
            ]
          },
          "metadata": {},
          "execution_count": 72
        },
        {
          "output_type": "execute_result",
          "data": {
            "text/plain": [
              "Text(0.5, 1.0, '0')"
            ]
          },
          "metadata": {},
          "execution_count": 72
        },
        {
          "output_type": "execute_result",
          "data": {
            "text/plain": [
              "([], <a list of 0 Text major ticklabel objects>)"
            ]
          },
          "metadata": {},
          "execution_count": 72
        },
        {
          "output_type": "execute_result",
          "data": {
            "text/plain": [
              "([], <a list of 0 Text major ticklabel objects>)"
            ]
          },
          "metadata": {},
          "execution_count": 72
        },
        {
          "output_type": "execute_result",
          "data": {
            "text/plain": [
              "<matplotlib.image.AxesImage at 0x7f1ffeb1a110>"
            ]
          },
          "metadata": {},
          "execution_count": 72
        },
        {
          "output_type": "execute_result",
          "data": {
            "text/plain": [
              "<matplotlib.axes._subplots.AxesSubplot at 0x7f1ffead7d90>"
            ]
          },
          "metadata": {},
          "execution_count": 72
        },
        {
          "output_type": "execute_result",
          "data": {
            "text/plain": [
              "Text(0.5, 1.0, '0')"
            ]
          },
          "metadata": {},
          "execution_count": 72
        },
        {
          "output_type": "execute_result",
          "data": {
            "text/plain": [
              "([], <a list of 0 Text major ticklabel objects>)"
            ]
          },
          "metadata": {},
          "execution_count": 72
        },
        {
          "output_type": "execute_result",
          "data": {
            "text/plain": [
              "([], <a list of 0 Text major ticklabel objects>)"
            ]
          },
          "metadata": {},
          "execution_count": 72
        },
        {
          "output_type": "execute_result",
          "data": {
            "text/plain": [
              "<matplotlib.image.AxesImage at 0x7f1ffea97250>"
            ]
          },
          "metadata": {},
          "execution_count": 72
        },
        {
          "output_type": "execute_result",
          "data": {
            "text/plain": [
              "<matplotlib.axes._subplots.AxesSubplot at 0x7f1ffeaf4690>"
            ]
          },
          "metadata": {},
          "execution_count": 72
        },
        {
          "output_type": "execute_result",
          "data": {
            "text/plain": [
              "Text(0.5, 1.0, '3')"
            ]
          },
          "metadata": {},
          "execution_count": 72
        },
        {
          "output_type": "execute_result",
          "data": {
            "text/plain": [
              "([], <a list of 0 Text major ticklabel objects>)"
            ]
          },
          "metadata": {},
          "execution_count": 72
        },
        {
          "output_type": "execute_result",
          "data": {
            "text/plain": [
              "([], <a list of 0 Text major ticklabel objects>)"
            ]
          },
          "metadata": {},
          "execution_count": 72
        },
        {
          "output_type": "execute_result",
          "data": {
            "text/plain": [
              "<matplotlib.image.AxesImage at 0x7f1ffea4ca90>"
            ]
          },
          "metadata": {},
          "execution_count": 72
        },
        {
          "output_type": "execute_result",
          "data": {
            "text/plain": [
              "<matplotlib.axes._subplots.AxesSubplot at 0x7f1ffea4cf10>"
            ]
          },
          "metadata": {},
          "execution_count": 72
        },
        {
          "output_type": "execute_result",
          "data": {
            "text/plain": [
              "Text(0.5, 1.0, '0')"
            ]
          },
          "metadata": {},
          "execution_count": 72
        },
        {
          "output_type": "execute_result",
          "data": {
            "text/plain": [
              "([], <a list of 0 Text major ticklabel objects>)"
            ]
          },
          "metadata": {},
          "execution_count": 72
        },
        {
          "output_type": "execute_result",
          "data": {
            "text/plain": [
              "([], <a list of 0 Text major ticklabel objects>)"
            ]
          },
          "metadata": {},
          "execution_count": 72
        },
        {
          "output_type": "execute_result",
          "data": {
            "text/plain": [
              "<matplotlib.image.AxesImage at 0x7f1ffea0d310>"
            ]
          },
          "metadata": {},
          "execution_count": 72
        },
        {
          "output_type": "execute_result",
          "data": {
            "text/plain": [
              "<matplotlib.axes._subplots.AxesSubplot at 0x7f1ffea76710>"
            ]
          },
          "metadata": {},
          "execution_count": 72
        },
        {
          "output_type": "execute_result",
          "data": {
            "text/plain": [
              "Text(0.5, 1.0, '2')"
            ]
          },
          "metadata": {},
          "execution_count": 72
        },
        {
          "output_type": "execute_result",
          "data": {
            "text/plain": [
              "([], <a list of 0 Text major ticklabel objects>)"
            ]
          },
          "metadata": {},
          "execution_count": 72
        },
        {
          "output_type": "execute_result",
          "data": {
            "text/plain": [
              "([], <a list of 0 Text major ticklabel objects>)"
            ]
          },
          "metadata": {},
          "execution_count": 72
        },
        {
          "output_type": "execute_result",
          "data": {
            "text/plain": [
              "<matplotlib.image.AxesImage at 0x7f1ffea1ca10>"
            ]
          },
          "metadata": {},
          "execution_count": 72
        },
        {
          "output_type": "execute_result",
          "data": {
            "text/plain": [
              "<matplotlib.axes._subplots.AxesSubplot at 0x7f1ffe9c3fd0>"
            ]
          },
          "metadata": {},
          "execution_count": 72
        },
        {
          "output_type": "execute_result",
          "data": {
            "text/plain": [
              "Text(0.5, 1.0, '7')"
            ]
          },
          "metadata": {},
          "execution_count": 72
        },
        {
          "output_type": "execute_result",
          "data": {
            "text/plain": [
              "([], <a list of 0 Text major ticklabel objects>)"
            ]
          },
          "metadata": {},
          "execution_count": 72
        },
        {
          "output_type": "execute_result",
          "data": {
            "text/plain": [
              "([], <a list of 0 Text major ticklabel objects>)"
            ]
          },
          "metadata": {},
          "execution_count": 72
        },
        {
          "output_type": "execute_result",
          "data": {
            "text/plain": [
              "<matplotlib.image.AxesImage at 0x7f1ffea27bd0>"
            ]
          },
          "metadata": {},
          "execution_count": 72
        },
        {
          "output_type": "execute_result",
          "data": {
            "text/plain": [
              "<matplotlib.axes._subplots.AxesSubplot at 0x7f1ffe9836d0>"
            ]
          },
          "metadata": {},
          "execution_count": 72
        },
        {
          "output_type": "execute_result",
          "data": {
            "text/plain": [
              "Text(0.5, 1.0, '2')"
            ]
          },
          "metadata": {},
          "execution_count": 72
        },
        {
          "output_type": "execute_result",
          "data": {
            "text/plain": [
              "([], <a list of 0 Text major ticklabel objects>)"
            ]
          },
          "metadata": {},
          "execution_count": 72
        },
        {
          "output_type": "execute_result",
          "data": {
            "text/plain": [
              "([], <a list of 0 Text major ticklabel objects>)"
            ]
          },
          "metadata": {},
          "execution_count": 72
        },
        {
          "output_type": "execute_result",
          "data": {
            "text/plain": [
              "<matplotlib.image.AxesImage at 0x7f1ffe9a1e10>"
            ]
          },
          "metadata": {},
          "execution_count": 72
        },
        {
          "output_type": "execute_result",
          "data": {
            "text/plain": [
              "<matplotlib.axes._subplots.AxesSubplot at 0x7f1ffe983590>"
            ]
          },
          "metadata": {},
          "execution_count": 72
        },
        {
          "output_type": "execute_result",
          "data": {
            "text/plain": [
              "Text(0.5, 1.0, '5')"
            ]
          },
          "metadata": {},
          "execution_count": 72
        },
        {
          "output_type": "execute_result",
          "data": {
            "text/plain": [
              "([], <a list of 0 Text major ticklabel objects>)"
            ]
          },
          "metadata": {},
          "execution_count": 72
        },
        {
          "output_type": "execute_result",
          "data": {
            "text/plain": [
              "([], <a list of 0 Text major ticklabel objects>)"
            ]
          },
          "metadata": {},
          "execution_count": 72
        },
        {
          "output_type": "execute_result",
          "data": {
            "text/plain": [
              "<matplotlib.image.AxesImage at 0x7f1ffe9b9e50>"
            ]
          },
          "metadata": {},
          "execution_count": 72
        },
        {
          "output_type": "execute_result",
          "data": {
            "text/plain": [
              "<matplotlib.axes._subplots.AxesSubplot at 0x7f1ffe97b6d0>"
            ]
          },
          "metadata": {},
          "execution_count": 72
        },
        {
          "output_type": "execute_result",
          "data": {
            "text/plain": [
              "Text(0.5, 1.0, '5')"
            ]
          },
          "metadata": {},
          "execution_count": 72
        },
        {
          "output_type": "execute_result",
          "data": {
            "text/plain": [
              "([], <a list of 0 Text major ticklabel objects>)"
            ]
          },
          "metadata": {},
          "execution_count": 72
        },
        {
          "output_type": "execute_result",
          "data": {
            "text/plain": [
              "([], <a list of 0 Text major ticklabel objects>)"
            ]
          },
          "metadata": {},
          "execution_count": 72
        },
        {
          "output_type": "execute_result",
          "data": {
            "text/plain": [
              "<matplotlib.image.AxesImage at 0x7f1ffe932f10>"
            ]
          },
          "metadata": {},
          "execution_count": 72
        },
        {
          "output_type": "execute_result",
          "data": {
            "text/plain": [
              "<matplotlib.axes._subplots.AxesSubplot at 0x7f1ffe932ed0>"
            ]
          },
          "metadata": {},
          "execution_count": 72
        },
        {
          "output_type": "execute_result",
          "data": {
            "text/plain": [
              "Text(0.5, 1.0, '0')"
            ]
          },
          "metadata": {},
          "execution_count": 72
        },
        {
          "output_type": "execute_result",
          "data": {
            "text/plain": [
              "([], <a list of 0 Text major ticklabel objects>)"
            ]
          },
          "metadata": {},
          "execution_count": 72
        },
        {
          "output_type": "execute_result",
          "data": {
            "text/plain": [
              "([], <a list of 0 Text major ticklabel objects>)"
            ]
          },
          "metadata": {},
          "execution_count": 72
        },
        {
          "output_type": "execute_result",
          "data": {
            "text/plain": [
              "<matplotlib.image.AxesImage at 0x7f1ffe932d50>"
            ]
          },
          "metadata": {},
          "execution_count": 72
        },
        {
          "output_type": "execute_result",
          "data": {
            "text/plain": [
              "<matplotlib.axes._subplots.AxesSubplot at 0x7f1ffe8f3750>"
            ]
          },
          "metadata": {},
          "execution_count": 72
        },
        {
          "output_type": "execute_result",
          "data": {
            "text/plain": [
              "Text(0.5, 1.0, '9')"
            ]
          },
          "metadata": {},
          "execution_count": 72
        },
        {
          "output_type": "execute_result",
          "data": {
            "text/plain": [
              "([], <a list of 0 Text major ticklabel objects>)"
            ]
          },
          "metadata": {},
          "execution_count": 72
        },
        {
          "output_type": "execute_result",
          "data": {
            "text/plain": [
              "([], <a list of 0 Text major ticklabel objects>)"
            ]
          },
          "metadata": {},
          "execution_count": 72
        },
        {
          "output_type": "execute_result",
          "data": {
            "text/plain": [
              "<matplotlib.image.AxesImage at 0x7f1ffe89a190>"
            ]
          },
          "metadata": {},
          "execution_count": 72
        },
        {
          "output_type": "execute_result",
          "data": {
            "text/plain": [
              "<matplotlib.axes._subplots.AxesSubplot at 0x7f1ffe889d50>"
            ]
          },
          "metadata": {},
          "execution_count": 72
        },
        {
          "output_type": "execute_result",
          "data": {
            "text/plain": [
              "Text(0.5, 1.0, '5')"
            ]
          },
          "metadata": {},
          "execution_count": 72
        },
        {
          "output_type": "execute_result",
          "data": {
            "text/plain": [
              "([], <a list of 0 Text major ticklabel objects>)"
            ]
          },
          "metadata": {},
          "execution_count": 72
        },
        {
          "output_type": "execute_result",
          "data": {
            "text/plain": [
              "([], <a list of 0 Text major ticklabel objects>)"
            ]
          },
          "metadata": {},
          "execution_count": 72
        },
        {
          "output_type": "execute_result",
          "data": {
            "text/plain": [
              "<matplotlib.image.AxesImage at 0x7f1ffe852a10>"
            ]
          },
          "metadata": {},
          "execution_count": 72
        },
        {
          "output_type": "execute_result",
          "data": {
            "text/plain": [
              "<matplotlib.axes._subplots.AxesSubplot at 0x7f1ffe848690>"
            ]
          },
          "metadata": {},
          "execution_count": 72
        },
        {
          "output_type": "execute_result",
          "data": {
            "text/plain": [
              "Text(0.5, 1.0, '5')"
            ]
          },
          "metadata": {},
          "execution_count": 72
        },
        {
          "output_type": "execute_result",
          "data": {
            "text/plain": [
              "([], <a list of 0 Text major ticklabel objects>)"
            ]
          },
          "metadata": {},
          "execution_count": 72
        },
        {
          "output_type": "execute_result",
          "data": {
            "text/plain": [
              "([], <a list of 0 Text major ticklabel objects>)"
            ]
          },
          "metadata": {},
          "execution_count": 72
        },
        {
          "output_type": "execute_result",
          "data": {
            "text/plain": [
              "<matplotlib.image.AxesImage at 0x7f1ffe7d1310>"
            ]
          },
          "metadata": {},
          "execution_count": 72
        },
        {
          "output_type": "execute_result",
          "data": {
            "text/plain": [
              "<matplotlib.axes._subplots.AxesSubplot at 0x7f1ffe7bdf50>"
            ]
          },
          "metadata": {},
          "execution_count": 72
        },
        {
          "output_type": "execute_result",
          "data": {
            "text/plain": [
              "Text(0.5, 1.0, '7')"
            ]
          },
          "metadata": {},
          "execution_count": 72
        },
        {
          "output_type": "execute_result",
          "data": {
            "text/plain": [
              "([], <a list of 0 Text major ticklabel objects>)"
            ]
          },
          "metadata": {},
          "execution_count": 72
        },
        {
          "output_type": "execute_result",
          "data": {
            "text/plain": [
              "([], <a list of 0 Text major ticklabel objects>)"
            ]
          },
          "metadata": {},
          "execution_count": 72
        },
        {
          "output_type": "execute_result",
          "data": {
            "text/plain": [
              "<matplotlib.image.AxesImage at 0x7f1ffe78abd0>"
            ]
          },
          "metadata": {},
          "execution_count": 72
        },
        {
          "output_type": "execute_result",
          "data": {
            "text/plain": [
              "<matplotlib.axes._subplots.AxesSubplot at 0x7f1ffe7fc850>"
            ]
          },
          "metadata": {},
          "execution_count": 72
        },
        {
          "output_type": "execute_result",
          "data": {
            "text/plain": [
              "Text(0.5, 1.0, '9')"
            ]
          },
          "metadata": {},
          "execution_count": 72
        },
        {
          "output_type": "execute_result",
          "data": {
            "text/plain": [
              "([], <a list of 0 Text major ticklabel objects>)"
            ]
          },
          "metadata": {},
          "execution_count": 72
        },
        {
          "output_type": "execute_result",
          "data": {
            "text/plain": [
              "([], <a list of 0 Text major ticklabel objects>)"
            ]
          },
          "metadata": {},
          "execution_count": 72
        },
        {
          "output_type": "execute_result",
          "data": {
            "text/plain": [
              "<matplotlib.image.AxesImage at 0x7f1ffe7484d0>"
            ]
          },
          "metadata": {},
          "execution_count": 72
        },
        {
          "output_type": "execute_result",
          "data": {
            "text/plain": [
              "<matplotlib.axes._subplots.AxesSubplot at 0x7f1ffe7b4d50>"
            ]
          },
          "metadata": {},
          "execution_count": 72
        },
        {
          "output_type": "execute_result",
          "data": {
            "text/plain": [
              "Text(0.5, 1.0, '1')"
            ]
          },
          "metadata": {},
          "execution_count": 72
        },
        {
          "output_type": "execute_result",
          "data": {
            "text/plain": [
              "([], <a list of 0 Text major ticklabel objects>)"
            ]
          },
          "metadata": {},
          "execution_count": 72
        },
        {
          "output_type": "execute_result",
          "data": {
            "text/plain": [
              "([], <a list of 0 Text major ticklabel objects>)"
            ]
          },
          "metadata": {},
          "execution_count": 72
        },
        {
          "output_type": "execute_result",
          "data": {
            "text/plain": [
              "<matplotlib.image.AxesImage at 0x7f1ffe701d90>"
            ]
          },
          "metadata": {},
          "execution_count": 72
        },
        {
          "output_type": "execute_result",
          "data": {
            "text/plain": [
              "<matplotlib.axes._subplots.AxesSubplot at 0x7f1ffe774a10>"
            ]
          },
          "metadata": {},
          "execution_count": 72
        },
        {
          "output_type": "execute_result",
          "data": {
            "text/plain": [
              "Text(0.5, 1.0, '0')"
            ]
          },
          "metadata": {},
          "execution_count": 72
        },
        {
          "output_type": "execute_result",
          "data": {
            "text/plain": [
              "([], <a list of 0 Text major ticklabel objects>)"
            ]
          },
          "metadata": {},
          "execution_count": 72
        },
        {
          "output_type": "execute_result",
          "data": {
            "text/plain": [
              "([], <a list of 0 Text major ticklabel objects>)"
            ]
          },
          "metadata": {},
          "execution_count": 72
        },
        {
          "output_type": "execute_result",
          "data": {
            "text/plain": [
              "<matplotlib.image.AxesImage at 0x7f1ffe6c2690>"
            ]
          },
          "metadata": {},
          "execution_count": 72
        },
        {
          "output_type": "execute_result",
          "data": {
            "text/plain": [
              "<matplotlib.axes._subplots.AxesSubplot at 0x7f1ffe728f10>"
            ]
          },
          "metadata": {},
          "execution_count": 72
        },
        {
          "output_type": "execute_result",
          "data": {
            "text/plain": [
              "Text(0.5, 1.0, '6')"
            ]
          },
          "metadata": {},
          "execution_count": 72
        },
        {
          "output_type": "execute_result",
          "data": {
            "text/plain": [
              "([], <a list of 0 Text major ticklabel objects>)"
            ]
          },
          "metadata": {},
          "execution_count": 72
        },
        {
          "output_type": "execute_result",
          "data": {
            "text/plain": [
              "([], <a list of 0 Text major ticklabel objects>)"
            ]
          },
          "metadata": {},
          "execution_count": 72
        },
        {
          "output_type": "execute_result",
          "data": {
            "text/plain": [
              "<matplotlib.image.AxesImage at 0x7f1ffe692f50>"
            ]
          },
          "metadata": {},
          "execution_count": 72
        },
        {
          "output_type": "execute_result",
          "data": {
            "text/plain": [
              "<matplotlib.axes._subplots.AxesSubplot at 0x7f1ffe6eab50>"
            ]
          },
          "metadata": {},
          "execution_count": 72
        },
        {
          "output_type": "execute_result",
          "data": {
            "text/plain": [
              "Text(0.5, 1.0, '4')"
            ]
          },
          "metadata": {},
          "execution_count": 72
        },
        {
          "output_type": "execute_result",
          "data": {
            "text/plain": [
              "([], <a list of 0 Text major ticklabel objects>)"
            ]
          },
          "metadata": {},
          "execution_count": 72
        },
        {
          "output_type": "execute_result",
          "data": {
            "text/plain": [
              "([], <a list of 0 Text major ticklabel objects>)"
            ]
          },
          "metadata": {},
          "execution_count": 72
        },
        {
          "output_type": "execute_result",
          "data": {
            "text/plain": [
              "<matplotlib.image.AxesImage at 0x7f1ffeda0bd0>"
            ]
          },
          "metadata": {},
          "execution_count": 72
        },
        {
          "output_type": "execute_result",
          "data": {
            "text/plain": [
              "<matplotlib.axes._subplots.AxesSubplot at 0x7f20001a4dd0>"
            ]
          },
          "metadata": {},
          "execution_count": 72
        },
        {
          "output_type": "execute_result",
          "data": {
            "text/plain": [
              "Text(0.5, 1.0, '3')"
            ]
          },
          "metadata": {},
          "execution_count": 72
        },
        {
          "output_type": "execute_result",
          "data": {
            "text/plain": [
              "([], <a list of 0 Text major ticklabel objects>)"
            ]
          },
          "metadata": {},
          "execution_count": 72
        },
        {
          "output_type": "execute_result",
          "data": {
            "text/plain": [
              "([], <a list of 0 Text major ticklabel objects>)"
            ]
          },
          "metadata": {},
          "execution_count": 72
        },
        {
          "output_type": "execute_result",
          "data": {
            "text/plain": [
              "<matplotlib.image.AxesImage at 0x7f1ffee3de50>"
            ]
          },
          "metadata": {},
          "execution_count": 72
        },
        {
          "output_type": "execute_result",
          "data": {
            "text/plain": [
              "<matplotlib.axes._subplots.AxesSubplot at 0x7f1ffedf7bd0>"
            ]
          },
          "metadata": {},
          "execution_count": 72
        },
        {
          "output_type": "execute_result",
          "data": {
            "text/plain": [
              "Text(0.5, 1.0, '1')"
            ]
          },
          "metadata": {},
          "execution_count": 72
        },
        {
          "output_type": "execute_result",
          "data": {
            "text/plain": [
              "([], <a list of 0 Text major ticklabel objects>)"
            ]
          },
          "metadata": {},
          "execution_count": 72
        },
        {
          "output_type": "execute_result",
          "data": {
            "text/plain": [
              "([], <a list of 0 Text major ticklabel objects>)"
            ]
          },
          "metadata": {},
          "execution_count": 72
        },
        {
          "output_type": "execute_result",
          "data": {
            "text/plain": [
              "<matplotlib.image.AxesImage at 0x7f1fff826950>"
            ]
          },
          "metadata": {},
          "execution_count": 72
        },
        {
          "output_type": "execute_result",
          "data": {
            "text/plain": [
              "<matplotlib.axes._subplots.AxesSubplot at 0x7f1ffe83b4d0>"
            ]
          },
          "metadata": {},
          "execution_count": 72
        },
        {
          "output_type": "execute_result",
          "data": {
            "text/plain": [
              "Text(0.5, 1.0, '4')"
            ]
          },
          "metadata": {},
          "execution_count": 72
        },
        {
          "output_type": "execute_result",
          "data": {
            "text/plain": [
              "([], <a list of 0 Text major ticklabel objects>)"
            ]
          },
          "metadata": {},
          "execution_count": 72
        },
        {
          "output_type": "execute_result",
          "data": {
            "text/plain": [
              "([], <a list of 0 Text major ticklabel objects>)"
            ]
          },
          "metadata": {},
          "execution_count": 72
        },
        {
          "output_type": "execute_result",
          "data": {
            "text/plain": [
              "<matplotlib.image.AxesImage at 0x7f1fffb4b7d0>"
            ]
          },
          "metadata": {},
          "execution_count": 72
        },
        {
          "output_type": "execute_result",
          "data": {
            "text/plain": [
              "<matplotlib.axes._subplots.AxesSubplot at 0x7f1fffafd350>"
            ]
          },
          "metadata": {},
          "execution_count": 72
        },
        {
          "output_type": "execute_result",
          "data": {
            "text/plain": [
              "Text(0.5, 1.0, '8')"
            ]
          },
          "metadata": {},
          "execution_count": 72
        },
        {
          "output_type": "execute_result",
          "data": {
            "text/plain": [
              "([], <a list of 0 Text major ticklabel objects>)"
            ]
          },
          "metadata": {},
          "execution_count": 72
        },
        {
          "output_type": "execute_result",
          "data": {
            "text/plain": [
              "([], <a list of 0 Text major ticklabel objects>)"
            ]
          },
          "metadata": {},
          "execution_count": 72
        },
        {
          "output_type": "execute_result",
          "data": {
            "text/plain": [
              "<matplotlib.image.AxesImage at 0x7f1fffe359d0>"
            ]
          },
          "metadata": {},
          "execution_count": 72
        },
        {
          "output_type": "execute_result",
          "data": {
            "text/plain": [
              "<matplotlib.axes._subplots.AxesSubplot at 0x7f1fffcf4bd0>"
            ]
          },
          "metadata": {},
          "execution_count": 72
        },
        {
          "output_type": "execute_result",
          "data": {
            "text/plain": [
              "Text(0.5, 1.0, '4')"
            ]
          },
          "metadata": {},
          "execution_count": 72
        },
        {
          "output_type": "execute_result",
          "data": {
            "text/plain": [
              "([], <a list of 0 Text major ticklabel objects>)"
            ]
          },
          "metadata": {},
          "execution_count": 72
        },
        {
          "output_type": "execute_result",
          "data": {
            "text/plain": [
              "([], <a list of 0 Text major ticklabel objects>)"
            ]
          },
          "metadata": {},
          "execution_count": 72
        },
        {
          "output_type": "execute_result",
          "data": {
            "text/plain": [
              "<matplotlib.image.AxesImage at 0x7f1fffb440d0>"
            ]
          },
          "metadata": {},
          "execution_count": 72
        },
        {
          "output_type": "execute_result",
          "data": {
            "text/plain": [
              "<matplotlib.axes._subplots.AxesSubplot at 0x7f20088c8f10>"
            ]
          },
          "metadata": {},
          "execution_count": 72
        },
        {
          "output_type": "execute_result",
          "data": {
            "text/plain": [
              "Text(0.5, 1.0, '3')"
            ]
          },
          "metadata": {},
          "execution_count": 72
        },
        {
          "output_type": "execute_result",
          "data": {
            "text/plain": [
              "([], <a list of 0 Text major ticklabel objects>)"
            ]
          },
          "metadata": {},
          "execution_count": 72
        },
        {
          "output_type": "execute_result",
          "data": {
            "text/plain": [
              "([], <a list of 0 Text major ticklabel objects>)"
            ]
          },
          "metadata": {},
          "execution_count": 72
        },
        {
          "output_type": "execute_result",
          "data": {
            "text/plain": [
              "<matplotlib.image.AxesImage at 0x7f1fffc4d990>"
            ]
          },
          "metadata": {},
          "execution_count": 72
        },
        {
          "output_type": "execute_result",
          "data": {
            "text/plain": [
              "<matplotlib.axes._subplots.AxesSubplot at 0x7f20002d4490>"
            ]
          },
          "metadata": {},
          "execution_count": 72
        },
        {
          "output_type": "execute_result",
          "data": {
            "text/plain": [
              "Text(0.5, 1.0, '0')"
            ]
          },
          "metadata": {},
          "execution_count": 72
        },
        {
          "output_type": "execute_result",
          "data": {
            "text/plain": [
              "([], <a list of 0 Text major ticklabel objects>)"
            ]
          },
          "metadata": {},
          "execution_count": 72
        },
        {
          "output_type": "execute_result",
          "data": {
            "text/plain": [
              "([], <a list of 0 Text major ticklabel objects>)"
            ]
          },
          "metadata": {},
          "execution_count": 72
        },
        {
          "output_type": "execute_result",
          "data": {
            "text/plain": [
              "<matplotlib.image.AxesImage at 0x7f1fffdecb90>"
            ]
          },
          "metadata": {},
          "execution_count": 72
        },
        {
          "output_type": "execute_result",
          "data": {
            "text/plain": [
              "<matplotlib.axes._subplots.AxesSubplot at 0x7f1fffe5f9d0>"
            ]
          },
          "metadata": {},
          "execution_count": 72
        },
        {
          "output_type": "execute_result",
          "data": {
            "text/plain": [
              "Text(0.5, 1.0, '2')"
            ]
          },
          "metadata": {},
          "execution_count": 72
        },
        {
          "output_type": "execute_result",
          "data": {
            "text/plain": [
              "([], <a list of 0 Text major ticklabel objects>)"
            ]
          },
          "metadata": {},
          "execution_count": 72
        },
        {
          "output_type": "execute_result",
          "data": {
            "text/plain": [
              "([], <a list of 0 Text major ticklabel objects>)"
            ]
          },
          "metadata": {},
          "execution_count": 72
        },
        {
          "output_type": "execute_result",
          "data": {
            "text/plain": [
              "<matplotlib.image.AxesImage at 0x7f1fffe982d0>"
            ]
          },
          "metadata": {},
          "execution_count": 72
        },
        {
          "output_type": "execute_result",
          "data": {
            "text/plain": [
              "<matplotlib.axes._subplots.AxesSubplot at 0x7f1fffec7810>"
            ]
          },
          "metadata": {},
          "execution_count": 72
        },
        {
          "output_type": "execute_result",
          "data": {
            "text/plain": [
              "Text(0.5, 1.0, '4')"
            ]
          },
          "metadata": {},
          "execution_count": 72
        },
        {
          "output_type": "execute_result",
          "data": {
            "text/plain": [
              "([], <a list of 0 Text major ticklabel objects>)"
            ]
          },
          "metadata": {},
          "execution_count": 72
        },
        {
          "output_type": "execute_result",
          "data": {
            "text/plain": [
              "([], <a list of 0 Text major ticklabel objects>)"
            ]
          },
          "metadata": {},
          "execution_count": 72
        },
        {
          "output_type": "execute_result",
          "data": {
            "text/plain": [
              "<matplotlib.image.AxesImage at 0x7f1ffff88a90>"
            ]
          },
          "metadata": {},
          "execution_count": 72
        },
        {
          "output_type": "execute_result",
          "data": {
            "text/plain": [
              "<matplotlib.axes._subplots.AxesSubplot at 0x7f2000031850>"
            ]
          },
          "metadata": {},
          "execution_count": 72
        },
        {
          "output_type": "execute_result",
          "data": {
            "text/plain": [
              "Text(0.5, 1.0, '4')"
            ]
          },
          "metadata": {},
          "execution_count": 72
        },
        {
          "output_type": "execute_result",
          "data": {
            "text/plain": [
              "([], <a list of 0 Text major ticklabel objects>)"
            ]
          },
          "metadata": {},
          "execution_count": 72
        },
        {
          "output_type": "execute_result",
          "data": {
            "text/plain": [
              "([], <a list of 0 Text major ticklabel objects>)"
            ]
          },
          "metadata": {},
          "execution_count": 72
        },
        {
          "output_type": "execute_result",
          "data": {
            "text/plain": [
              "<matplotlib.image.AxesImage at 0x7f20000f5190>"
            ]
          },
          "metadata": {},
          "execution_count": 72
        },
        {
          "output_type": "execute_result",
          "data": {
            "text/plain": [
              "<matplotlib.axes._subplots.AxesSubplot at 0x7f200007c7d0>"
            ]
          },
          "metadata": {},
          "execution_count": 72
        },
        {
          "output_type": "execute_result",
          "data": {
            "text/plain": [
              "Text(0.5, 1.0, '5')"
            ]
          },
          "metadata": {},
          "execution_count": 72
        },
        {
          "output_type": "execute_result",
          "data": {
            "text/plain": [
              "([], <a list of 0 Text major ticklabel objects>)"
            ]
          },
          "metadata": {},
          "execution_count": 72
        },
        {
          "output_type": "execute_result",
          "data": {
            "text/plain": [
              "([], <a list of 0 Text major ticklabel objects>)"
            ]
          },
          "metadata": {},
          "execution_count": 72
        },
        {
          "output_type": "execute_result",
          "data": {
            "text/plain": [
              "<matplotlib.image.AxesImage at 0x7f2000088210>"
            ]
          },
          "metadata": {},
          "execution_count": 72
        },
        {
          "output_type": "execute_result",
          "data": {
            "text/plain": [
              "<matplotlib.axes._subplots.AxesSubplot at 0x7f20000e7d50>"
            ]
          },
          "metadata": {},
          "execution_count": 72
        },
        {
          "output_type": "execute_result",
          "data": {
            "text/plain": [
              "Text(0.5, 1.0, '3')"
            ]
          },
          "metadata": {},
          "execution_count": 72
        },
        {
          "output_type": "execute_result",
          "data": {
            "text/plain": [
              "([], <a list of 0 Text major ticklabel objects>)"
            ]
          },
          "metadata": {},
          "execution_count": 72
        },
        {
          "output_type": "execute_result",
          "data": {
            "text/plain": [
              "([], <a list of 0 Text major ticklabel objects>)"
            ]
          },
          "metadata": {},
          "execution_count": 72
        },
        {
          "output_type": "execute_result",
          "data": {
            "text/plain": [
              "<matplotlib.image.AxesImage at 0x7f20000fb790>"
            ]
          },
          "metadata": {},
          "execution_count": 72
        },
        {
          "output_type": "execute_result",
          "data": {
            "text/plain": [
              "<matplotlib.axes._subplots.AxesSubplot at 0x7f2000ba6750>"
            ]
          },
          "metadata": {},
          "execution_count": 72
        },
        {
          "output_type": "execute_result",
          "data": {
            "text/plain": [
              "Text(0.5, 1.0, '6')"
            ]
          },
          "metadata": {},
          "execution_count": 72
        },
        {
          "output_type": "execute_result",
          "data": {
            "text/plain": [
              "([], <a list of 0 Text major ticklabel objects>)"
            ]
          },
          "metadata": {},
          "execution_count": 72
        },
        {
          "output_type": "execute_result",
          "data": {
            "text/plain": [
              "([], <a list of 0 Text major ticklabel objects>)"
            ]
          },
          "metadata": {},
          "execution_count": 72
        },
        {
          "output_type": "execute_result",
          "data": {
            "text/plain": [
              "<matplotlib.image.AxesImage at 0x7f20001e1990>"
            ]
          },
          "metadata": {},
          "execution_count": 72
        },
        {
          "output_type": "execute_result",
          "data": {
            "text/plain": [
              "<matplotlib.axes._subplots.AxesSubplot at 0x7f2000230890>"
            ]
          },
          "metadata": {},
          "execution_count": 72
        },
        {
          "output_type": "execute_result",
          "data": {
            "text/plain": [
              "Text(0.5, 1.0, '6')"
            ]
          },
          "metadata": {},
          "execution_count": 72
        },
        {
          "output_type": "execute_result",
          "data": {
            "text/plain": [
              "([], <a list of 0 Text major ticklabel objects>)"
            ]
          },
          "metadata": {},
          "execution_count": 72
        },
        {
          "output_type": "execute_result",
          "data": {
            "text/plain": [
              "([], <a list of 0 Text major ticklabel objects>)"
            ]
          },
          "metadata": {},
          "execution_count": 72
        },
        {
          "output_type": "execute_result",
          "data": {
            "text/plain": [
              "<matplotlib.image.AxesImage at 0x7f20088f10d0>"
            ]
          },
          "metadata": {},
          "execution_count": 72
        },
        {
          "output_type": "execute_result",
          "data": {
            "text/plain": [
              "<matplotlib.axes._subplots.AxesSubplot at 0x7f1ffca99690>"
            ]
          },
          "metadata": {},
          "execution_count": 72
        },
        {
          "output_type": "execute_result",
          "data": {
            "text/plain": [
              "Text(0.5, 1.0, '0')"
            ]
          },
          "metadata": {},
          "execution_count": 72
        },
        {
          "output_type": "execute_result",
          "data": {
            "text/plain": [
              "([], <a list of 0 Text major ticklabel objects>)"
            ]
          },
          "metadata": {},
          "execution_count": 72
        },
        {
          "output_type": "execute_result",
          "data": {
            "text/plain": [
              "([], <a list of 0 Text major ticklabel objects>)"
            ]
          },
          "metadata": {},
          "execution_count": 72
        },
        {
          "output_type": "execute_result",
          "data": {
            "text/plain": [
              "<matplotlib.image.AxesImage at 0x7f2005428c50>"
            ]
          },
          "metadata": {},
          "execution_count": 72
        },
        {
          "output_type": "execute_result",
          "data": {
            "text/plain": [
              "<matplotlib.axes._subplots.AxesSubplot at 0x7f200885c7d0>"
            ]
          },
          "metadata": {},
          "execution_count": 72
        },
        {
          "output_type": "execute_result",
          "data": {
            "text/plain": [
              "Text(0.5, 1.0, '8')"
            ]
          },
          "metadata": {},
          "execution_count": 72
        },
        {
          "output_type": "execute_result",
          "data": {
            "text/plain": [
              "([], <a list of 0 Text major ticklabel objects>)"
            ]
          },
          "metadata": {},
          "execution_count": 72
        },
        {
          "output_type": "execute_result",
          "data": {
            "text/plain": [
              "([], <a list of 0 Text major ticklabel objects>)"
            ]
          },
          "metadata": {},
          "execution_count": 72
        },
        {
          "output_type": "execute_result",
          "data": {
            "text/plain": [
              "<matplotlib.image.AxesImage at 0x7f200543c750>"
            ]
          },
          "metadata": {},
          "execution_count": 72
        },
        {
          "output_type": "execute_result",
          "data": {
            "text/plain": [
              "<matplotlib.axes._subplots.AxesSubplot at 0x7f200543c9d0>"
            ]
          },
          "metadata": {},
          "execution_count": 72
        },
        {
          "output_type": "execute_result",
          "data": {
            "text/plain": [
              "Text(0.5, 1.0, '5')"
            ]
          },
          "metadata": {},
          "execution_count": 72
        },
        {
          "output_type": "execute_result",
          "data": {
            "text/plain": [
              "([], <a list of 0 Text major ticklabel objects>)"
            ]
          },
          "metadata": {},
          "execution_count": 72
        },
        {
          "output_type": "execute_result",
          "data": {
            "text/plain": [
              "([], <a list of 0 Text major ticklabel objects>)"
            ]
          },
          "metadata": {},
          "execution_count": 72
        },
        {
          "output_type": "execute_result",
          "data": {
            "text/plain": [
              "<matplotlib.image.AxesImage at 0x7f2000188290>"
            ]
          },
          "metadata": {},
          "execution_count": 72
        },
        {
          "output_type": "execute_result",
          "data": {
            "text/plain": [
              "<matplotlib.axes._subplots.AxesSubplot at 0x7f1fffc09450>"
            ]
          },
          "metadata": {},
          "execution_count": 72
        },
        {
          "output_type": "execute_result",
          "data": {
            "text/plain": [
              "Text(0.5, 1.0, '2')"
            ]
          },
          "metadata": {},
          "execution_count": 72
        },
        {
          "output_type": "execute_result",
          "data": {
            "text/plain": [
              "([], <a list of 0 Text major ticklabel objects>)"
            ]
          },
          "metadata": {},
          "execution_count": 72
        },
        {
          "output_type": "execute_result",
          "data": {
            "text/plain": [
              "([], <a list of 0 Text major ticklabel objects>)"
            ]
          },
          "metadata": {},
          "execution_count": 72
        },
        {
          "output_type": "execute_result",
          "data": {
            "text/plain": [
              "<matplotlib.image.AxesImage at 0x7f1ffcab3f90>"
            ]
          },
          "metadata": {},
          "execution_count": 72
        },
        {
          "output_type": "execute_result",
          "data": {
            "text/plain": [
              "<matplotlib.axes._subplots.AxesSubplot at 0x7f200543c210>"
            ]
          },
          "metadata": {},
          "execution_count": 72
        },
        {
          "output_type": "execute_result",
          "data": {
            "text/plain": [
              "Text(0.5, 1.0, '1')"
            ]
          },
          "metadata": {},
          "execution_count": 72
        },
        {
          "output_type": "execute_result",
          "data": {
            "text/plain": [
              "([], <a list of 0 Text major ticklabel objects>)"
            ]
          },
          "metadata": {},
          "execution_count": 72
        },
        {
          "output_type": "execute_result",
          "data": {
            "text/plain": [
              "([], <a list of 0 Text major ticklabel objects>)"
            ]
          },
          "metadata": {},
          "execution_count": 72
        },
        {
          "output_type": "execute_result",
          "data": {
            "text/plain": [
              "<matplotlib.image.AxesImage at 0x7f2000bd87d0>"
            ]
          },
          "metadata": {},
          "execution_count": 72
        },
        {
          "output_type": "execute_result",
          "data": {
            "text/plain": [
              "<matplotlib.axes._subplots.AxesSubplot at 0x7f2000bd8690>"
            ]
          },
          "metadata": {},
          "execution_count": 72
        },
        {
          "output_type": "execute_result",
          "data": {
            "text/plain": [
              "Text(0.5, 1.0, '6')"
            ]
          },
          "metadata": {},
          "execution_count": 72
        },
        {
          "output_type": "execute_result",
          "data": {
            "text/plain": [
              "([], <a list of 0 Text major ticklabel objects>)"
            ]
          },
          "metadata": {},
          "execution_count": 72
        },
        {
          "output_type": "execute_result",
          "data": {
            "text/plain": [
              "([], <a list of 0 Text major ticklabel objects>)"
            ]
          },
          "metadata": {},
          "execution_count": 72
        },
        {
          "output_type": "execute_result",
          "data": {
            "text/plain": [
              "<matplotlib.image.AxesImage at 0x7f1fff856e50>"
            ]
          },
          "metadata": {},
          "execution_count": 72
        },
        {
          "output_type": "execute_result",
          "data": {
            "text/plain": [
              "<matplotlib.axes._subplots.AxesSubplot at 0x7f2000bc8710>"
            ]
          },
          "metadata": {},
          "execution_count": 72
        },
        {
          "output_type": "execute_result",
          "data": {
            "text/plain": [
              "Text(0.5, 1.0, '6')"
            ]
          },
          "metadata": {},
          "execution_count": 72
        },
        {
          "output_type": "execute_result",
          "data": {
            "text/plain": [
              "([], <a list of 0 Text major ticklabel objects>)"
            ]
          },
          "metadata": {},
          "execution_count": 72
        },
        {
          "output_type": "execute_result",
          "data": {
            "text/plain": [
              "([], <a list of 0 Text major ticklabel objects>)"
            ]
          },
          "metadata": {},
          "execution_count": 72
        },
        {
          "output_type": "execute_result",
          "data": {
            "text/plain": [
              "<matplotlib.image.AxesImage at 0x7f1fff852a50>"
            ]
          },
          "metadata": {},
          "execution_count": 72
        },
        {
          "output_type": "execute_result",
          "data": {
            "text/plain": [
              "<matplotlib.axes._subplots.AxesSubplot at 0x7f20012202d0>"
            ]
          },
          "metadata": {},
          "execution_count": 72
        },
        {
          "output_type": "execute_result",
          "data": {
            "text/plain": [
              "Text(0.5, 1.0, '7')"
            ]
          },
          "metadata": {},
          "execution_count": 72
        },
        {
          "output_type": "execute_result",
          "data": {
            "text/plain": [
              "([], <a list of 0 Text major ticklabel objects>)"
            ]
          },
          "metadata": {},
          "execution_count": 72
        },
        {
          "output_type": "execute_result",
          "data": {
            "text/plain": [
              "([], <a list of 0 Text major ticklabel objects>)"
            ]
          },
          "metadata": {},
          "execution_count": 72
        },
        {
          "output_type": "execute_result",
          "data": {
            "text/plain": [
              "<matplotlib.image.AxesImage at 0x7f1ffcac1710>"
            ]
          },
          "metadata": {},
          "execution_count": 72
        },
        {
          "output_type": "execute_result",
          "data": {
            "text/plain": [
              "<matplotlib.axes._subplots.AxesSubplot at 0x7f20012e84d0>"
            ]
          },
          "metadata": {},
          "execution_count": 72
        },
        {
          "output_type": "execute_result",
          "data": {
            "text/plain": [
              "Text(0.5, 1.0, '9')"
            ]
          },
          "metadata": {},
          "execution_count": 72
        },
        {
          "output_type": "execute_result",
          "data": {
            "text/plain": [
              "([], <a list of 0 Text major ticklabel objects>)"
            ]
          },
          "metadata": {},
          "execution_count": 72
        },
        {
          "output_type": "execute_result",
          "data": {
            "text/plain": [
              "([], <a list of 0 Text major ticklabel objects>)"
            ]
          },
          "metadata": {},
          "execution_count": 72
        },
        {
          "output_type": "execute_result",
          "data": {
            "text/plain": [
              "<matplotlib.image.AxesImage at 0x7f1fff82f4d0>"
            ]
          },
          "metadata": {},
          "execution_count": 72
        },
        {
          "output_type": "execute_result",
          "data": {
            "text/plain": [
              "<matplotlib.axes._subplots.AxesSubplot at 0x7f2000c91f10>"
            ]
          },
          "metadata": {},
          "execution_count": 72
        },
        {
          "output_type": "execute_result",
          "data": {
            "text/plain": [
              "Text(0.5, 1.0, '5')"
            ]
          },
          "metadata": {},
          "execution_count": 72
        },
        {
          "output_type": "execute_result",
          "data": {
            "text/plain": [
              "([], <a list of 0 Text major ticklabel objects>)"
            ]
          },
          "metadata": {},
          "execution_count": 72
        },
        {
          "output_type": "execute_result",
          "data": {
            "text/plain": [
              "([], <a list of 0 Text major ticklabel objects>)"
            ]
          },
          "metadata": {},
          "execution_count": 72
        },
        {
          "output_type": "execute_result",
          "data": {
            "text/plain": [
              "<matplotlib.image.AxesImage at 0x7f20001f33d0>"
            ]
          },
          "metadata": {},
          "execution_count": 72
        },
        {
          "output_type": "execute_result",
          "data": {
            "text/plain": [
              "<matplotlib.axes._subplots.AxesSubplot at 0x7f200136a810>"
            ]
          },
          "metadata": {},
          "execution_count": 72
        },
        {
          "output_type": "execute_result",
          "data": {
            "text/plain": [
              "Text(0.5, 1.0, '9')"
            ]
          },
          "metadata": {},
          "execution_count": 72
        },
        {
          "output_type": "execute_result",
          "data": {
            "text/plain": [
              "([], <a list of 0 Text major ticklabel objects>)"
            ]
          },
          "metadata": {},
          "execution_count": 72
        },
        {
          "output_type": "execute_result",
          "data": {
            "text/plain": [
              "([], <a list of 0 Text major ticklabel objects>)"
            ]
          },
          "metadata": {},
          "execution_count": 72
        },
        {
          "output_type": "execute_result",
          "data": {
            "text/plain": [
              "<matplotlib.image.AxesImage at 0x7f1ffffd8d10>"
            ]
          },
          "metadata": {},
          "execution_count": 72
        },
        {
          "output_type": "execute_result",
          "data": {
            "text/plain": [
              "<matplotlib.axes._subplots.AxesSubplot at 0x7f1ffee51410>"
            ]
          },
          "metadata": {},
          "execution_count": 72
        },
        {
          "output_type": "execute_result",
          "data": {
            "text/plain": [
              "Text(0.5, 1.0, '2')"
            ]
          },
          "metadata": {},
          "execution_count": 72
        },
        {
          "output_type": "execute_result",
          "data": {
            "text/plain": [
              "([], <a list of 0 Text major ticklabel objects>)"
            ]
          },
          "metadata": {},
          "execution_count": 72
        },
        {
          "output_type": "execute_result",
          "data": {
            "text/plain": [
              "([], <a list of 0 Text major ticklabel objects>)"
            ]
          },
          "metadata": {},
          "execution_count": 72
        },
        {
          "output_type": "execute_result",
          "data": {
            "text/plain": [
              "<matplotlib.image.AxesImage at 0x7f2000c417d0>"
            ]
          },
          "metadata": {},
          "execution_count": 72
        },
        {
          "output_type": "execute_result",
          "data": {
            "text/plain": [
              "<matplotlib.axes._subplots.AxesSubplot at 0x7f2000c12290>"
            ]
          },
          "metadata": {},
          "execution_count": 72
        },
        {
          "output_type": "execute_result",
          "data": {
            "text/plain": [
              "Text(0.5, 1.0, '7')"
            ]
          },
          "metadata": {},
          "execution_count": 72
        },
        {
          "output_type": "execute_result",
          "data": {
            "text/plain": [
              "([], <a list of 0 Text major ticklabel objects>)"
            ]
          },
          "metadata": {},
          "execution_count": 72
        },
        {
          "output_type": "execute_result",
          "data": {
            "text/plain": [
              "([], <a list of 0 Text major ticklabel objects>)"
            ]
          },
          "metadata": {},
          "execution_count": 72
        },
        {
          "output_type": "execute_result",
          "data": {
            "text/plain": [
              "<matplotlib.image.AxesImage at 0x7f1fffc25290>"
            ]
          },
          "metadata": {},
          "execution_count": 72
        },
        {
          "output_type": "execute_result",
          "data": {
            "text/plain": [
              "<matplotlib.axes._subplots.AxesSubplot at 0x7f1fffc40d10>"
            ]
          },
          "metadata": {},
          "execution_count": 72
        },
        {
          "output_type": "execute_result",
          "data": {
            "text/plain": [
              "Text(0.5, 1.0, '3')"
            ]
          },
          "metadata": {},
          "execution_count": 72
        },
        {
          "output_type": "execute_result",
          "data": {
            "text/plain": [
              "([], <a list of 0 Text major ticklabel objects>)"
            ]
          },
          "metadata": {},
          "execution_count": 72
        },
        {
          "output_type": "execute_result",
          "data": {
            "text/plain": [
              "([], <a list of 0 Text major ticklabel objects>)"
            ]
          },
          "metadata": {},
          "execution_count": 72
        },
        {
          "output_type": "execute_result",
          "data": {
            "text/plain": [
              "<matplotlib.image.AxesImage at 0x7f20086433d0>"
            ]
          },
          "metadata": {},
          "execution_count": 72
        },
        {
          "output_type": "execute_result",
          "data": {
            "text/plain": [
              "<matplotlib.axes._subplots.AxesSubplot at 0x7f1fffae37d0>"
            ]
          },
          "metadata": {},
          "execution_count": 72
        },
        {
          "output_type": "execute_result",
          "data": {
            "text/plain": [
              "Text(0.5, 1.0, '0')"
            ]
          },
          "metadata": {},
          "execution_count": 72
        },
        {
          "output_type": "execute_result",
          "data": {
            "text/plain": [
              "([], <a list of 0 Text major ticklabel objects>)"
            ]
          },
          "metadata": {},
          "execution_count": 72
        },
        {
          "output_type": "execute_result",
          "data": {
            "text/plain": [
              "([], <a list of 0 Text major ticklabel objects>)"
            ]
          },
          "metadata": {},
          "execution_count": 72
        },
        {
          "output_type": "execute_result",
          "data": {
            "text/plain": [
              "<matplotlib.image.AxesImage at 0x7f2000028b50>"
            ]
          },
          "metadata": {},
          "execution_count": 72
        },
        {
          "output_type": "execute_result",
          "data": {
            "text/plain": [
              "<matplotlib.axes._subplots.AxesSubplot at 0x7f2000005190>"
            ]
          },
          "metadata": {},
          "execution_count": 72
        },
        {
          "output_type": "execute_result",
          "data": {
            "text/plain": [
              "Text(0.5, 1.0, '3')"
            ]
          },
          "metadata": {},
          "execution_count": 72
        },
        {
          "output_type": "execute_result",
          "data": {
            "text/plain": [
              "([], <a list of 0 Text major ticklabel objects>)"
            ]
          },
          "metadata": {},
          "execution_count": 72
        },
        {
          "output_type": "execute_result",
          "data": {
            "text/plain": [
              "([], <a list of 0 Text major ticklabel objects>)"
            ]
          },
          "metadata": {},
          "execution_count": 72
        },
        {
          "output_type": "execute_result",
          "data": {
            "text/plain": [
              "<matplotlib.image.AxesImage at 0x7f1ffe674450>"
            ]
          },
          "metadata": {},
          "execution_count": 72
        },
        {
          "output_type": "display_data",
          "data": {
            "image/png": "[encoded data removed]",
            "text/plain": [
              "<Figure size 1080x648 with 50 Axes>"
            ]
          },
          "metadata": {}
        }
      ]
    },
    {
      "cell_type": "markdown",
      "source": [
        "# Reviewing the labels"
      ],
      "metadata": {
        "id": "njaISB0zL9U2"
      }
    },
    {
      "cell_type": "code",
      "source": [
        "#Understanding the frequency of labels for training y \n",
        "pd.DataFrame(y_train).value_counts()\n",
        "pd.DataFrame(y_train).value_counts().plot(kind='pie', figsize=(5, 5) )"
      ],
      "metadata": {
        "colab": {
          "base_uri": "https://localhost:8080/",
          "height": 494
        },
        "id": "N1cPIiBdL_Po",
        "outputId": "ce04e67f-bde0-46f2-e59f-61f8e978134a"
      },
      "execution_count": null,
      "outputs": [
        {
          "output_type": "execute_result",
          "data": {
            "text/plain": [
              "9    6000\n",
              "8    6000\n",
              "7    6000\n",
              "6    6000\n",
              "5    6000\n",
              "4    6000\n",
              "3    6000\n",
              "2    6000\n",
              "1    6000\n",
              "0    6000\n",
              "dtype: int64"
            ]
          },
          "metadata": {},
          "execution_count": 73
        },
        {
          "output_type": "execute_result",
          "data": {
            "text/plain": [
              "<matplotlib.axes._subplots.AxesSubplot at 0x7f1ffe5e1210>"
            ]
          },
          "metadata": {},
          "execution_count": 73
        },
        {
          "output_type": "display_data",
          "data": {
            "image/png": "[encoded data removed]",
            "text/plain": [
              "<Figure size 360x360 with 1 Axes>"
            ]
          },
          "metadata": {}
        }
      ]
    },
    {
      "cell_type": "code",
      "source": [
        "#Understanding the frequency of labels for test y \n",
        "pd.DataFrame(y_test).value_counts()\n",
        "pd.DataFrame(y_test).value_counts().plot(kind='pie', figsize=(5, 5) )"
      ],
      "metadata": {
        "colab": {
          "base_uri": "https://localhost:8080/",
          "height": 494
        },
        "id": "B61u9TsVMP16",
        "outputId": "27296925-7708-4133-84d0-59a211a326ab"
      },
      "execution_count": null,
      "outputs": [
        {
          "output_type": "execute_result",
          "data": {
            "text/plain": [
              "9    1000\n",
              "8    1000\n",
              "7    1000\n",
              "6    1000\n",
              "5    1000\n",
              "4    1000\n",
              "3    1000\n",
              "2    1000\n",
              "1    1000\n",
              "0    1000\n",
              "dtype: int64"
            ]
          },
          "metadata": {},
          "execution_count": 74
        },
        {
          "output_type": "execute_result",
          "data": {
            "text/plain": [
              "<matplotlib.axes._subplots.AxesSubplot at 0x7f1ffe5575d0>"
            ]
          },
          "metadata": {},
          "execution_count": 74
        },
        {
          "output_type": "display_data",
          "data": {
            "image/png": "[encoded data removed]",
            "text/plain": [
              "<Figure size 360x360 with 1 Axes>"
            ]
          },
          "metadata": {}
        }
      ]
    },
    {
      "cell_type": "markdown",
      "source": [
        "The products are equally distributed across the datasets"
      ],
      "metadata": {
        "id": "DixVtVRpMce1"
      }
    },
    {
      "cell_type": "markdown",
      "source": [
        "# Data Transformation\n",
        "The image data cannot be fed directly into the model, thus we need to transform it"
      ],
      "metadata": {
        "id": "rdSsXk59MkXL"
      }
    },
    {
      "cell_type": "code",
      "source": [
        "#To flatten it into a 1D array the number of columns of a 28x28 pixel image would be \n",
        "print('image_vector_size: ', 28*28 )"
      ],
      "metadata": {
        "colab": {
          "base_uri": "https://localhost:8080/"
        },
        "id": "A2zDg27zMnko",
        "outputId": "0fdee9a2-92bd-4882-8fba-478d2675bc99"
      },
      "execution_count": null,
      "outputs": [
        {
          "output_type": "stream",
          "name": "stdout",
          "text": [
            "image_vector_size:  784\n"
          ]
        }
      ]
    },
    {
      "cell_type": "code",
      "source": [
        "# Flattening the images to a 1 D array:\n",
        "x_train_reshaped = np.reshape(x_train, (60000, 784))\n",
        "x_test_reshaped = np.reshape(x_test, (10000, 784))\n",
        "\n",
        "# Verifying the shape:\n",
        "print('x_train_reshaped shape: ', x_train_reshaped.shape)\n",
        "print('x_test_reshaped shape: ', x_test_reshaped.shape)"
      ],
      "metadata": {
        "colab": {
          "base_uri": "https://localhost:8080/"
        },
        "id": "XWDASmdsMzLm",
        "outputId": "7b4259cd-ab44-4935-cdf2-152f6080aa65"
      },
      "execution_count": null,
      "outputs": [
        {
          "output_type": "stream",
          "name": "stdout",
          "text": [
            "x_train_reshaped shape:  (60000, 784)\n",
            "x_test_reshaped shape:  (10000, 784)\n"
          ]
        }
      ]
    },
    {
      "cell_type": "markdown",
      "source": [
        "Each element in an image is a pixel value where pixel values range from 0 to 255:\n",
        "\n",
        "0 = White <br>\n",
        "255 = Black"
      ],
      "metadata": {
        "id": "Vp2_TyZ6M8UK"
      }
    },
    {
      "cell_type": "code",
      "source": [
        "print(set(x_train_reshaped[0]))"
      ],
      "metadata": {
        "colab": {
          "base_uri": "https://localhost:8080/"
        },
        "id": "zsLpQrYnM_Oi",
        "outputId": "cbc0d520-357f-4c27-cc0a-a94f9a2ceb8a"
      },
      "execution_count": null,
      "outputs": [
        {
          "output_type": "stream",
          "name": "stdout",
          "text": [
            "{0, 1, 2, 3, 4, 6, 7, 10, 12, 13, 15, 18, 23, 29, 35, 36, 40, 41, 44, 48, 52, 54, 55, 56, 57, 58, 61, 62, 64, 65, 66, 67, 69, 72, 73, 74, 75, 77, 80, 82, 88, 92, 98, 99, 102, 106, 107, 109, 115, 117, 119, 121, 122, 123, 127, 130, 134, 136, 141, 144, 145, 146, 150, 154, 155, 156, 159, 161, 163, 164, 166, 167, 168, 169, 170, 171, 172, 173, 175, 176, 177, 178, 179, 180, 181, 182, 183, 185, 186, 187, 188, 189, 190, 191, 192, 193, 194, 195, 196, 197, 198, 199, 200, 202, 203, 204, 205, 206, 207, 208, 209, 210, 211, 212, 213, 214, 215, 216, 217, 218, 219, 220, 221, 222, 223, 224, 225, 226, 227, 228, 229, 230, 232, 233, 234, 235, 236, 237, 238, 239, 240, 241, 242, 243, 244, 245, 246, 248, 249, 250, 255}\n"
          ]
        }
      ]
    },
    {
      "cell_type": "markdown",
      "source": [
        "# Rescaling Train and Test samples"
      ],
      "metadata": {
        "id": "jIyb6c3kNS-0"
      }
    },
    {
      "cell_type": "code",
      "source": [
        "# Normalize from [0:255] => [0.0:1.0]\n",
        "x_train_norm = np.multiply(x_train_reshaped, 1.0 / 255.0) \n",
        "x_test_norm = np.multiply(x_test_reshaped, 1.0 / 255.0) "
      ],
      "metadata": {
        "id": "F_uiA2WpNVCb"
      },
      "execution_count": null,
      "outputs": []
    },
    {
      "cell_type": "code",
      "source": [
        "#Reviewing scaling \n",
        "x_train_norm.min() , x_train_norm.max()\n",
        "x_test_norm.min() , x_test_norm.max() "
      ],
      "metadata": {
        "colab": {
          "base_uri": "https://localhost:8080/"
        },
        "id": "HdKnuVYENfSa",
        "outputId": "79689ac9-496d-4a6e-e89c-264a47865edf"
      },
      "execution_count": null,
      "outputs": [
        {
          "output_type": "execute_result",
          "data": {
            "text/plain": [
              "(0.0, 1.0)"
            ]
          },
          "metadata": {},
          "execution_count": 79
        },
        {
          "output_type": "execute_result",
          "data": {
            "text/plain": [
              "(0.0, 1.0)"
            ]
          },
          "metadata": {},
          "execution_count": 79
        }
      ]
    },
    {
      "cell_type": "markdown",
      "source": [
        "# Utility"
      ],
      "metadata": {
        "id": "nOOCMcJJR-n6"
      }
    },
    {
      "cell_type": "code",
      "source": [
        "results = {}"
      ],
      "metadata": {
        "id": "M7i58j1xOTjS"
      },
      "execution_count": null,
      "outputs": []
    },
    {
      "cell_type": "code",
      "source": [
        "def plot_history(model):\n",
        "    fig, (ax1, ax2) = plt.subplots(1,2,figsize=(17,5))\n",
        "    ax1.plot(model.history.history['val_accuracy'], label = 'validation')\n",
        "    ax1.plot(model.history.history['accuracy'], label = 'train')\n",
        "    ax1.grid()\n",
        "    ax1.legend()\n",
        "    ax2.plot(model.history.history['val_loss'], label = 'validation')\n",
        "    ax2.plot(model.history.history['loss'], label = 'train')\n",
        "    ax2.grid()\n",
        "    ax2.legend()"
      ],
      "metadata": {
        "id": "Fmd9f0TWOUIX"
      },
      "execution_count": null,
      "outputs": []
    },
    {
      "cell_type": "code",
      "source": [
        "def plot_confusion_matrix(y_true,y_pred):\n",
        "    \"\"\"If you prefer color and a colorbar\"\"\"\n",
        "    fig = plt.figure(figsize=(5,5))\n",
        "    matrix = confusion_matrix(y_true, y_pred)\n",
        "    ax = fig.add_subplot(111)\n",
        "    cax = ax.matshow(matrix)\n",
        "    fig.colorbar(cax)\n",
        "    plt.xlabel(\"Predicted Classes\")\n",
        "    plt.ylabel(\"Actual Classes\")\n",
        "    plt.show()"
      ],
      "metadata": {
        "id": "-VhLK8RGR9Vg"
      },
      "execution_count": null,
      "outputs": []
    },
    {
      "cell_type": "code",
      "source": [
        "import time\n",
        "class TimeHistory(keras.callbacks.Callback):\n",
        "    def on_train_begin(self, logs={}):\n",
        "        self.times = []\n",
        "\n",
        "    def on_epoch_begin(self, batch, logs={}):\n",
        "        self.epoch_time_start = time.time()\n",
        "\n",
        "    def on_epoch_end(self, batch, logs={}):\n",
        "        self.times.append(time.time() - self.epoch_time_start)"
      ],
      "metadata": {
        "id": "REXrEdFGPxbA"
      },
      "execution_count": null,
      "outputs": []
    },
    {
      "cell_type": "code",
      "source": [
        "X_train, X_val, y_train, y_val = train_test_split(x_train_norm, y_train)\n",
        "X_test, y_test = x_test_norm, y_test"
      ],
      "metadata": {
        "id": "8drplW7bSVV7"
      },
      "execution_count": null,
      "outputs": []
    },
    {
      "cell_type": "code",
      "source": [
        "from tensorflow.keras.utils import to_categorical\n",
        "y_train_encoded = to_categorical(y_train ,num_classes = 10)\n",
        "y_valid_encoded = to_categorical(y_val ,num_classes = 10)\n",
        "y_test_encoded = to_categorical(y_test , num_classes = 10)"
      ],
      "metadata": {
        "id": "pyHeqZvvVhf9"
      },
      "execution_count": null,
      "outputs": []
    },
    {
      "cell_type": "markdown",
      "source": [
        "# Experiment 1: 2 layer DNN"
      ],
      "metadata": {
        "id": "BVTjVYqMuDyD"
      }
    },
    {
      "cell_type": "code",
      "source": [
        "from tensorflow.keras import layers\n",
        "import datetime\n",
        "time_callback_1 = TimeHistory()\n",
        "X_train_exp_1= X_train.copy().reshape(X_train.shape[0], 28,28)\n",
        "X_val_exp_1 = X_val.copy().reshape(X_val.shape[0],28,28)\n",
        "\n",
        "tf.keras.backend.clear_session()  # For easy reset of notebook state.\n",
        "\n",
        "inputs = keras.Input(shape=(28,28, 1)) #H x W x Channels\n",
        "x = layers.Flatten()(inputs)\n",
        "x = layers.Dense(64 ,activation = 'relu')(x)\n",
        "x = layers.Dense(32 ,activation = 'relu')(x)\n",
        "outputs = layers.Dense(10 ,activation = 'softmax')(x)\n",
        "\n",
        "model = keras.Model(inputs=inputs, outputs=outputs, name='fashion_mnist_exp_1')\n",
        "\n",
        "# For use with non-categorical labels\n",
        "model.compile(optimizer='rmsprop',           \n",
        "                loss='sparse_categorical_crossentropy',\n",
        "                metrics=['accuracy'])\n",
        "\n",
        "#FITTING, and storing for plotting and call backs\n",
        "history = model.fit(X_train_exp_1,y_train, validation_data = (X_val_exp_1,y_val), epochs=20, verbose = 1, callbacks = [time_callback_1])\n",
        "results['exp1'] = history.history"
      ],
      "metadata": {
        "colab": {
          "base_uri": "https://localhost:8080/"
        },
        "id": "zJPgnX3oOeq9",
        "outputId": "b5a21d59-df58-49c5-cbbc-b7c4f128e5ad"
      },
      "execution_count": null,
      "outputs": [
        {
          "output_type": "stream",
          "name": "stdout",
          "text": [
            "Epoch 1/20\n",
            "1407/1407 [==============================] - 5s 3ms/step - loss: 0.5518 - accuracy: 0.8038 - val_loss: 0.4694 - val_accuracy: 0.8241\n",
            "Epoch 2/20\n",
            "1407/1407 [==============================] - 4s 3ms/step - loss: 0.4034 - accuracy: 0.8534 - val_loss: 0.4572 - val_accuracy: 0.8398\n",
            "Epoch 3/20\n",
            "1407/1407 [==============================] - 4s 3ms/step - loss: 0.3639 - accuracy: 0.8675 - val_loss: 0.4725 - val_accuracy: 0.8435\n",
            "Epoch 4/20\n",
            "1407/1407 [==============================] - 4s 3ms/step - loss: 0.3433 - accuracy: 0.8754 - val_loss: 0.4102 - val_accuracy: 0.8600\n",
            "Epoch 5/20\n",
            "1407/1407 [==============================] - 4s 3ms/step - loss: 0.3286 - accuracy: 0.8824 - val_loss: 0.3660 - val_accuracy: 0.8724\n",
            "Epoch 6/20\n",
            "1407/1407 [==============================] - 4s 3ms/step - loss: 0.3196 - accuracy: 0.8837 - val_loss: 0.3562 - val_accuracy: 0.8777\n",
            "Epoch 7/20\n",
            "1407/1407 [==============================] - 4s 3ms/step - loss: 0.3142 - accuracy: 0.8879 - val_loss: 0.3921 - val_accuracy: 0.8719\n",
            "Epoch 8/20\n",
            "1407/1407 [==============================] - 4s 3ms/step - loss: 0.3043 - accuracy: 0.8914 - val_loss: 0.3932 - val_accuracy: 0.8728\n",
            "Epoch 9/20\n",
            "1407/1407 [==============================] - 4s 3ms/step - loss: 0.2977 - accuracy: 0.8927 - val_loss: 0.3938 - val_accuracy: 0.8743\n",
            "Epoch 10/20\n",
            "1407/1407 [==============================] - 4s 3ms/step - loss: 0.2935 - accuracy: 0.8961 - val_loss: 0.3884 - val_accuracy: 0.8761\n",
            "Epoch 11/20\n",
            "1407/1407 [==============================] - 4s 3ms/step - loss: 0.2872 - accuracy: 0.8986 - val_loss: 0.4259 - val_accuracy: 0.8656\n",
            "Epoch 12/20\n",
            "1407/1407 [==============================] - 4s 3ms/step - loss: 0.2843 - accuracy: 0.8992 - val_loss: 0.4054 - val_accuracy: 0.8742\n",
            "Epoch 13/20\n",
            "1407/1407 [==============================] - 4s 3ms/step - loss: 0.2835 - accuracy: 0.9007 - val_loss: 0.3983 - val_accuracy: 0.8728\n",
            "Epoch 14/20\n",
            "1407/1407 [==============================] - 4s 3ms/step - loss: 0.2785 - accuracy: 0.9027 - val_loss: 0.4021 - val_accuracy: 0.8771\n",
            "Epoch 15/20\n",
            "1407/1407 [==============================] - 4s 3ms/step - loss: 0.2787 - accuracy: 0.9037 - val_loss: 0.4722 - val_accuracy: 0.8666\n",
            "Epoch 16/20\n",
            "1407/1407 [==============================] - 4s 3ms/step - loss: 0.2726 - accuracy: 0.9045 - val_loss: 0.4380 - val_accuracy: 0.8756\n",
            "Epoch 17/20\n",
            "1407/1407 [==============================] - 4s 3ms/step - loss: 0.2699 - accuracy: 0.9046 - val_loss: 0.4355 - val_accuracy: 0.8691\n",
            "Epoch 18/20\n",
            "1407/1407 [==============================] - 4s 3ms/step - loss: 0.2680 - accuracy: 0.9082 - val_loss: 0.4548 - val_accuracy: 0.8684\n",
            "Epoch 19/20\n",
            "1407/1407 [==============================] - 4s 3ms/step - loss: 0.2658 - accuracy: 0.9077 - val_loss: 0.4554 - val_accuracy: 0.8759\n",
            "Epoch 20/20\n",
            "1407/1407 [==============================] - 4s 3ms/step - loss: 0.2668 - accuracy: 0.9071 - val_loss: 0.4779 - val_accuracy: 0.8772\n"
          ]
        }
      ]
    },
    {
      "cell_type": "code",
      "source": [
        "keras.utils.plot_model(model, 'DNN.png', show_shapes=True)"
      ],
      "metadata": {
        "colab": {
          "base_uri": "https://localhost:8080/",
          "height": 533
        },
        "id": "4MgfV2YTeska",
        "outputId": "0120d73a-faff-478d-dd95-6fddff587656"
      },
      "execution_count": null,
      "outputs": [
        {
          "output_type": "execute_result",
          "data": {
            "image/png": "[encoded data removed]",
            "text/plain": [
              "<IPython.core.display.Image object>"
            ]
          },
          "metadata": {},
          "execution_count": 87
        }
      ]
    },
    {
      "cell_type": "code",
      "source": [
        "model.summary()"
      ],
      "metadata": {
        "colab": {
          "base_uri": "https://localhost:8080/"
        },
        "id": "hEC1ZsCPQnoV",
        "outputId": "76ed7d60-40ef-4e93-ceeb-d5b153433b27"
      },
      "execution_count": null,
      "outputs": [
        {
          "output_type": "stream",
          "name": "stdout",
          "text": [
            "Model: \"fashion_mnist_exp_1\"\n",
            "_________________________________________________________________\n",
            " Layer (type)                Output Shape              Param #   \n",
            "=================================================================\n",
            " input_1 (InputLayer)        [(None, 28, 28, 1)]       0         \n",
            "                                                                 \n",
            " flatten (Flatten)           (None, 784)               0         \n",
            "                                                                 \n",
            " dense (Dense)               (None, 64)                50240     \n",
            "                                                                 \n",
            " dense_1 (Dense)             (None, 32)                2080      \n",
            "                                                                 \n",
            " dense_2 (Dense)             (None, 10)                330       \n",
            "                                                                 \n",
            "=================================================================\n",
            "Total params: 52,650\n",
            "Trainable params: 52,650\n",
            "Non-trainable params: 0\n",
            "_________________________________________________________________\n"
          ]
        }
      ]
    },
    {
      "cell_type": "code",
      "source": [
        "plot_history(model)"
      ],
      "metadata": {
        "colab": {
          "base_uri": "https://localhost:8080/",
          "height": 320
        },
        "id": "Qh6q9SwGQp_p",
        "outputId": "56b1dc22-66d4-4ac0-8be0-8aa1e7caa92a"
      },
      "execution_count": null,
      "outputs": [
        {
          "output_type": "display_data",
          "data": {
            "image/png": "[encoded data removed]",
            "text/plain": [
              "<Figure size 1224x360 with 2 Axes>"
            ]
          },
          "metadata": {
            "needs_background": "light"
          }
        }
      ]
    },
    {
      "cell_type": "code",
      "source": [
        "exp1_test_preds = model.predict(X_test.copy().reshape(X_test.shape[0],28,28))\n",
        "exp1_val_preds = model.predict(X_val.copy().reshape(X_val.shape[0],28,28))"
      ],
      "metadata": {
        "id": "_BRPlPjDRE8w"
      },
      "execution_count": null,
      "outputs": []
    },
    {
      "cell_type": "code",
      "source": [
        "fig, axes = plt.subplots(nrows = 4, ncols = 4, figsize  = (20,10))\n",
        "for i,ax in enumerate(axes.flatten()):\n",
        "  ax.imshow(X_val[i].reshape(28,28), cmap = 'gray')\n",
        "  ax.set_title(str(exp1_val_preds[i].round(2)))\n",
        "  ax.axis('off');"
      ],
      "metadata": {
        "colab": {
          "base_uri": "https://localhost:8080/",
          "height": 921
        },
        "id": "LPTOgn2xQwPe",
        "outputId": "707be38e-2528-4f07-a774-50abf7a9bfce"
      },
      "execution_count": null,
      "outputs": [
        {
          "output_type": "execute_result",
          "data": {
            "text/plain": [
              "<matplotlib.image.AxesImage at 0x7f2000567f90>"
            ]
          },
          "metadata": {},
          "execution_count": 91
        },
        {
          "output_type": "execute_result",
          "data": {
            "text/plain": [
              "Text(0.5, 1.0, '[1. 0. 0. 0. 0. 0. 0. 0. 0. 0.]')"
            ]
          },
          "metadata": {},
          "execution_count": 91
        },
        {
          "output_type": "execute_result",
          "data": {
            "text/plain": [
              "(-0.5, 27.5, 27.5, -0.5)"
            ]
          },
          "metadata": {},
          "execution_count": 91
        },
        {
          "output_type": "execute_result",
          "data": {
            "text/plain": [
              "<matplotlib.image.AxesImage at 0x7f200093e250>"
            ]
          },
          "metadata": {},
          "execution_count": 91
        },
        {
          "output_type": "execute_result",
          "data": {
            "text/plain": [
              "Text(0.5, 1.0, '[0. 0. 0. 0. 0. 0. 0. 0. 1. 0.]')"
            ]
          },
          "metadata": {},
          "execution_count": 91
        },
        {
          "output_type": "execute_result",
          "data": {
            "text/plain": [
              "(-0.5, 27.5, 27.5, -0.5)"
            ]
          },
          "metadata": {},
          "execution_count": 91
        },
        {
          "output_type": "execute_result",
          "data": {
            "text/plain": [
              "<matplotlib.image.AxesImage at 0x7f2000577410>"
            ]
          },
          "metadata": {},
          "execution_count": 91
        },
        {
          "output_type": "execute_result",
          "data": {
            "text/plain": [
              "Text(0.5, 1.0, '[0. 0. 0. 0. 0. 0. 0. 0. 1. 0.]')"
            ]
          },
          "metadata": {},
          "execution_count": 91
        },
        {
          "output_type": "execute_result",
          "data": {
            "text/plain": [
              "(-0.5, 27.5, 27.5, -0.5)"
            ]
          },
          "metadata": {},
          "execution_count": 91
        },
        {
          "output_type": "execute_result",
          "data": {
            "text/plain": [
              "<matplotlib.image.AxesImage at 0x7f2000577490>"
            ]
          },
          "metadata": {},
          "execution_count": 91
        },
        {
          "output_type": "execute_result",
          "data": {
            "text/plain": [
              "Text(0.5, 1.0, '[1. 0. 0. 0. 0. 0. 0. 0. 0. 0.]')"
            ]
          },
          "metadata": {},
          "execution_count": 91
        },
        {
          "output_type": "execute_result",
          "data": {
            "text/plain": [
              "(-0.5, 27.5, 27.5, -0.5)"
            ]
          },
          "metadata": {},
          "execution_count": 91
        },
        {
          "output_type": "execute_result",
          "data": {
            "text/plain": [
              "<matplotlib.image.AxesImage at 0x7f2000875290>"
            ]
          },
          "metadata": {},
          "execution_count": 91
        },
        {
          "output_type": "execute_result",
          "data": {
            "text/plain": [
              "Text(0.5, 1.0, '[0. 1. 0. 0. 0. 0. 0. 0. 0. 0.]')"
            ]
          },
          "metadata": {},
          "execution_count": 91
        },
        {
          "output_type": "execute_result",
          "data": {
            "text/plain": [
              "(-0.5, 27.5, 27.5, -0.5)"
            ]
          },
          "metadata": {},
          "execution_count": 91
        },
        {
          "output_type": "execute_result",
          "data": {
            "text/plain": [
              "<matplotlib.image.AxesImage at 0x7f2000504190>"
            ]
          },
          "metadata": {},
          "execution_count": 91
        },
        {
          "output_type": "execute_result",
          "data": {
            "text/plain": [
              "Text(0.5, 1.0, '[0. 0. 0. 1. 0. 0. 0. 0. 0. 0.]')"
            ]
          },
          "metadata": {},
          "execution_count": 91
        },
        {
          "output_type": "execute_result",
          "data": {
            "text/plain": [
              "(-0.5, 27.5, 27.5, -0.5)"
            ]
          },
          "metadata": {},
          "execution_count": 91
        },
        {
          "output_type": "execute_result",
          "data": {
            "text/plain": [
              "<matplotlib.image.AxesImage at 0x7f20008d5850>"
            ]
          },
          "metadata": {},
          "execution_count": 91
        },
        {
          "output_type": "execute_result",
          "data": {
            "text/plain": [
              "Text(0.5, 1.0, '[0. 1. 0. 0. 0. 0. 0. 0. 0. 0.]')"
            ]
          },
          "metadata": {},
          "execution_count": 91
        },
        {
          "output_type": "execute_result",
          "data": {
            "text/plain": [
              "(-0.5, 27.5, 27.5, -0.5)"
            ]
          },
          "metadata": {},
          "execution_count": 91
        },
        {
          "output_type": "execute_result",
          "data": {
            "text/plain": [
              "<matplotlib.image.AxesImage at 0x7f2000504590>"
            ]
          },
          "metadata": {},
          "execution_count": 91
        },
        {
          "output_type": "execute_result",
          "data": {
            "text/plain": [
              "Text(0.5, 1.0, '[0. 0. 0. 0. 0. 0. 0. 1. 0. 0.]')"
            ]
          },
          "metadata": {},
          "execution_count": 91
        },
        {
          "output_type": "execute_result",
          "data": {
            "text/plain": [
              "(-0.5, 27.5, 27.5, -0.5)"
            ]
          },
          "metadata": {},
          "execution_count": 91
        },
        {
          "output_type": "execute_result",
          "data": {
            "text/plain": [
              "<matplotlib.image.AxesImage at 0x7f20005049d0>"
            ]
          },
          "metadata": {},
          "execution_count": 91
        },
        {
          "output_type": "execute_result",
          "data": {
            "text/plain": [
              "Text(0.5, 1.0, '[0. 1. 0. 0. 0. 0. 0. 0. 0. 0.]')"
            ]
          },
          "metadata": {},
          "execution_count": 91
        },
        {
          "output_type": "execute_result",
          "data": {
            "text/plain": [
              "(-0.5, 27.5, 27.5, -0.5)"
            ]
          },
          "metadata": {},
          "execution_count": 91
        },
        {
          "output_type": "execute_result",
          "data": {
            "text/plain": [
              "<matplotlib.image.AxesImage at 0x7f20008d5fd0>"
            ]
          },
          "metadata": {},
          "execution_count": 91
        },
        {
          "output_type": "execute_result",
          "data": {
            "text/plain": [
              "Text(0.5, 1.0, '[0.23 0.   0.25 0.   0.01 0.   0.06 0.   0.44 0.  ]')"
            ]
          },
          "metadata": {},
          "execution_count": 91
        },
        {
          "output_type": "execute_result",
          "data": {
            "text/plain": [
              "(-0.5, 27.5, 27.5, -0.5)"
            ]
          },
          "metadata": {},
          "execution_count": 91
        },
        {
          "output_type": "execute_result",
          "data": {
            "text/plain": [
              "<matplotlib.image.AxesImage at 0x7f2000511350>"
            ]
          },
          "metadata": {},
          "execution_count": 91
        },
        {
          "output_type": "execute_result",
          "data": {
            "text/plain": [
              "Text(0.5, 1.0, '[0.48 0.   0.   0.38 0.   0.   0.13 0.   0.   0.  ]')"
            ]
          },
          "metadata": {},
          "execution_count": 91
        },
        {
          "output_type": "execute_result",
          "data": {
            "text/plain": [
              "(-0.5, 27.5, 27.5, -0.5)"
            ]
          },
          "metadata": {},
          "execution_count": 91
        },
        {
          "output_type": "execute_result",
          "data": {
            "text/plain": [
              "<matplotlib.image.AxesImage at 0x7f20006ab7d0>"
            ]
          },
          "metadata": {},
          "execution_count": 91
        },
        {
          "output_type": "execute_result",
          "data": {
            "text/plain": [
              "Text(0.5, 1.0, '[0. 0. 0. 0. 0. 0. 0. 0. 1. 0.]')"
            ]
          },
          "metadata": {},
          "execution_count": 91
        },
        {
          "output_type": "execute_result",
          "data": {
            "text/plain": [
              "(-0.5, 27.5, 27.5, -0.5)"
            ]
          },
          "metadata": {},
          "execution_count": 91
        },
        {
          "output_type": "execute_result",
          "data": {
            "text/plain": [
              "<matplotlib.image.AxesImage at 0x7f2000504210>"
            ]
          },
          "metadata": {},
          "execution_count": 91
        },
        {
          "output_type": "execute_result",
          "data": {
            "text/plain": [
              "Text(0.5, 1.0, '[0. 0. 0. 0. 0. 0. 0. 0. 1. 0.]')"
            ]
          },
          "metadata": {},
          "execution_count": 91
        },
        {
          "output_type": "execute_result",
          "data": {
            "text/plain": [
              "(-0.5, 27.5, 27.5, -0.5)"
            ]
          },
          "metadata": {},
          "execution_count": 91
        },
        {
          "output_type": "execute_result",
          "data": {
            "text/plain": [
              "<matplotlib.image.AxesImage at 0x7f20005aa550>"
            ]
          },
          "metadata": {},
          "execution_count": 91
        },
        {
          "output_type": "execute_result",
          "data": {
            "text/plain": [
              "Text(0.5, 1.0, '[0. 0. 0. 0. 0. 0. 0. 0. 0. 1.]')"
            ]
          },
          "metadata": {},
          "execution_count": 91
        },
        {
          "output_type": "execute_result",
          "data": {
            "text/plain": [
              "(-0.5, 27.5, 27.5, -0.5)"
            ]
          },
          "metadata": {},
          "execution_count": 91
        },
        {
          "output_type": "execute_result",
          "data": {
            "text/plain": [
              "<matplotlib.image.AxesImage at 0x7f20005df750>"
            ]
          },
          "metadata": {},
          "execution_count": 91
        },
        {
          "output_type": "execute_result",
          "data": {
            "text/plain": [
              "Text(0.5, 1.0, '[0. 0. 0. 0. 0. 1. 0. 0. 0. 0.]')"
            ]
          },
          "metadata": {},
          "execution_count": 91
        },
        {
          "output_type": "execute_result",
          "data": {
            "text/plain": [
              "(-0.5, 27.5, 27.5, -0.5)"
            ]
          },
          "metadata": {},
          "execution_count": 91
        },
        {
          "output_type": "execute_result",
          "data": {
            "text/plain": [
              "<matplotlib.image.AxesImage at 0x7f2000511050>"
            ]
          },
          "metadata": {},
          "execution_count": 91
        },
        {
          "output_type": "execute_result",
          "data": {
            "text/plain": [
              "Text(0.5, 1.0, '[0.   0.   0.   0.   0.   0.   0.   0.28 0.   0.72]')"
            ]
          },
          "metadata": {},
          "execution_count": 91
        },
        {
          "output_type": "execute_result",
          "data": {
            "text/plain": [
              "(-0.5, 27.5, 27.5, -0.5)"
            ]
          },
          "metadata": {},
          "execution_count": 91
        },
        {
          "output_type": "display_data",
          "data": {
            "image/png": "[encoded data removed]",
            "text/plain": [
              "<Figure size 1440x720 with 16 Axes>"
            ]
          },
          "metadata": {
            "needs_background": "light"
          }
        }
      ]
    },
    {
      "cell_type": "code",
      "source": [
        "plot_confusion_matrix(y_test, exp1_test_preds.argmax(axis = 1));"
      ],
      "metadata": {
        "colab": {
          "base_uri": "https://localhost:8080/",
          "height": 309
        },
        "id": "8f-AgFMCQznF",
        "outputId": "65919c97-822d-408d-cc6c-32dab6e89f95"
      },
      "execution_count": null,
      "outputs": [
        {
          "output_type": "display_data",
          "data": {
            "image/png": "[encoded data removed]",
            "text/plain": [
              "<Figure size 360x360 with 2 Axes>"
            ]
          },
          "metadata": {
            "needs_background": "light"
          }
        }
      ]
    },
    {
      "cell_type": "code",
      "source": [
        "from sklearn.metrics import accuracy_score\n",
        "from sklearn.metrics import classification_report\n",
        "y_pred = model.predict(X_test.reshape(X_test.shape[0], 28,28), batch_size=64, verbose=1)\n",
        "y_pred_bool = np.argmax(y_pred, axis=1)\n",
        "print(\"Overall test Accuuracy Score: \", accuracy_score(y_test, y_pred_bool))\n",
        "print(classification_report(y_test, y_pred_bool))"
      ],
      "metadata": {
        "colab": {
          "base_uri": "https://localhost:8080/"
        },
        "id": "wn1BN1WNQ3U5",
        "outputId": "2efd07e7-21d0-4ac7-bac0-d12ce719e6f2"
      },
      "execution_count": null,
      "outputs": [
        {
          "output_type": "stream",
          "name": "stdout",
          "text": [
            "157/157 [==============================] - 0s 2ms/step\n",
            "Overall test Accuuracy Score:  0.8709\n",
            "              precision    recall  f1-score   support\n",
            "\n",
            "           0       0.81      0.85      0.83      1000\n",
            "           1       0.98      0.97      0.97      1000\n",
            "           2       0.78      0.80      0.79      1000\n",
            "           3       0.85      0.89      0.87      1000\n",
            "           4       0.74      0.84      0.78      1000\n",
            "           5       0.95      0.95      0.95      1000\n",
            "           6       0.75      0.59      0.66      1000\n",
            "           7       0.92      0.95      0.94      1000\n",
            "           8       0.99      0.94      0.96      1000\n",
            "           9       0.96      0.94      0.95      1000\n",
            "\n",
            "    accuracy                           0.87     10000\n",
            "   macro avg       0.87      0.87      0.87     10000\n",
            "weighted avg       0.87      0.87      0.87     10000\n",
            "\n"
          ]
        }
      ]
    },
    {
      "cell_type": "markdown",
      "source": [
        "# Experiment 2: 1 layer CNN "
      ],
      "metadata": {
        "id": "80GayY2lhpg9"
      }
    },
    {
      "cell_type": "code",
      "source": [
        "from tensorflow.keras import layers\n",
        "import datetime\n",
        "time_callback_2 = TimeHistory()\n",
        "X_train_exp_2 = X_train.copy().reshape(X_train.shape[0], 28,28)\n",
        "X_val_exp_2 = X_val.copy().reshape(X_val.shape[0],28,28)\n",
        "\n",
        "tf.keras.backend.clear_session()  # For easy reset of notebook state.\n",
        "\n",
        "inputs = keras.Input(shape=(28,28, 1)) #H x W x Channels\n",
        "x = layers.Conv2D(filters = 16, kernel_size = (2,2), strides = (1,1), activation = ('relu'), padding = 'same')(inputs)\n",
        "x = layers.MaxPooling2D(1,1)(x)\n",
        "x = layers.Flatten()(x)\n",
        "outputs = layers.Dense(10 ,activation = 'softmax')(x)\n",
        "\n",
        "model_2 = keras.Model(inputs=inputs, outputs=outputs, name='fashion_mnist_exp_2')\n",
        "\n",
        "# For use with non-categorical labels\n",
        "model_2.compile(optimizer='rmsprop',           \n",
        "                loss='sparse_categorical_crossentropy',\n",
        "                metrics=['accuracy'])\n",
        "\n",
        "#FITTING, and storing for plotting and call backs\n",
        "history = model_2.fit(X_train_exp_3,y_train, validation_data = (X_val_exp_2,y_val), epochs=20, verbose = 1, callbacks = [time_callback_2])\n",
        "results['exp2'] = history.history"
      ],
      "metadata": {
        "colab": {
          "base_uri": "https://localhost:8080/"
        },
        "id": "n4_upq3sgKZQ",
        "outputId": "ba19b95b-d742-4ee8-ed87-69de5e5573ff"
      },
      "execution_count": null,
      "outputs": [
        {
          "output_type": "stream",
          "name": "stdout",
          "text": [
            "Epoch 1/20\n",
            "1407/1407 [==============================] - 25s 17ms/step - loss: 2.3066 - accuracy: 0.0976 - val_loss: 2.3027 - val_accuracy: 0.0903\n",
            "Epoch 2/20\n",
            "1407/1407 [==============================] - 24s 17ms/step - loss: 2.2946 - accuracy: 0.1237 - val_loss: 2.3053 - val_accuracy: 0.0963\n",
            "Epoch 3/20\n",
            "1407/1407 [==============================] - 24s 17ms/step - loss: 2.2690 - accuracy: 0.1503 - val_loss: 2.3225 - val_accuracy: 0.0933\n",
            "Epoch 4/20\n",
            "1407/1407 [==============================] - 24s 17ms/step - loss: 2.2385 - accuracy: 0.1710 - val_loss: 2.3626 - val_accuracy: 0.0828\n",
            "Epoch 5/20\n",
            "1407/1407 [==============================] - 24s 17ms/step - loss: 2.2107 - accuracy: 0.1859 - val_loss: 2.3819 - val_accuracy: 0.0883\n",
            "Epoch 6/20\n",
            "1407/1407 [==============================] - 24s 17ms/step - loss: 2.1849 - accuracy: 0.2018 - val_loss: 2.3759 - val_accuracy: 0.1021\n",
            "Epoch 7/20\n",
            "1407/1407 [==============================] - 24s 17ms/step - loss: 2.1620 - accuracy: 0.2113 - val_loss: 2.3987 - val_accuracy: 0.1040\n",
            "Epoch 8/20\n",
            "1407/1407 [==============================] - 24s 17ms/step - loss: 2.1415 - accuracy: 0.2228 - val_loss: 2.4492 - val_accuracy: 0.0885\n",
            "Epoch 9/20\n",
            "1407/1407 [==============================] - 24s 17ms/step - loss: 2.1228 - accuracy: 0.2298 - val_loss: 2.4227 - val_accuracy: 0.1159\n",
            "Epoch 10/20\n",
            "1407/1407 [==============================] - 24s 17ms/step - loss: 2.1054 - accuracy: 0.2379 - val_loss: 2.4883 - val_accuracy: 0.0961\n",
            "Epoch 11/20\n",
            "1407/1407 [==============================] - 24s 17ms/step - loss: 2.0903 - accuracy: 0.2454 - val_loss: 2.4891 - val_accuracy: 0.0999\n",
            "Epoch 12/20\n",
            "1407/1407 [==============================] - 24s 17ms/step - loss: 2.0766 - accuracy: 0.2517 - val_loss: 2.5398 - val_accuracy: 0.0945\n",
            "Epoch 13/20\n",
            "1407/1407 [==============================] - 24s 17ms/step - loss: 2.0629 - accuracy: 0.2579 - val_loss: 2.5378 - val_accuracy: 0.0988\n",
            "Epoch 14/20\n",
            "1407/1407 [==============================] - 24s 17ms/step - loss: 2.0509 - accuracy: 0.2625 - val_loss: 2.5582 - val_accuracy: 0.0924\n",
            "Epoch 15/20\n",
            "1407/1407 [==============================] - 24s 17ms/step - loss: 2.0396 - accuracy: 0.2698 - val_loss: 2.5541 - val_accuracy: 0.0963\n",
            "Epoch 16/20\n",
            "1407/1407 [==============================] - 24s 17ms/step - loss: 2.0297 - accuracy: 0.2730 - val_loss: 2.6015 - val_accuracy: 0.0952\n",
            "Epoch 17/20\n",
            "1407/1407 [==============================] - 24s 17ms/step - loss: 2.0191 - accuracy: 0.2775 - val_loss: 2.5987 - val_accuracy: 0.0923\n",
            "Epoch 18/20\n",
            "1407/1407 [==============================] - 24s 17ms/step - loss: 2.0101 - accuracy: 0.2817 - val_loss: 2.6361 - val_accuracy: 0.0961\n",
            "Epoch 19/20\n",
            "1407/1407 [==============================] - 24s 17ms/step - loss: 2.0019 - accuracy: 0.2858 - val_loss: 2.6523 - val_accuracy: 0.0901\n",
            "Epoch 20/20\n",
            "1407/1407 [==============================] - 24s 17ms/step - loss: 1.9932 - accuracy: 0.2884 - val_loss: 2.6212 - val_accuracy: 0.1084\n"
          ]
        }
      ]
    },
    {
      "cell_type": "code",
      "source": [
        "keras.utils.plot_model(model_2, 'CNN_1.png', show_shapes=True)"
      ],
      "metadata": {
        "colab": {
          "base_uri": "https://localhost:8080/",
          "height": 533
        },
        "id": "IIUxCm-Lh7Hm",
        "outputId": "17e2d4e3-ccab-4a89-fcf1-c04b6f5f0802"
      },
      "execution_count": null,
      "outputs": [
        {
          "output_type": "execute_result",
          "data": {
            "image/png": "[encoded data removed]",
            "text/plain": [
              "<IPython.core.display.Image object>"
            ]
          },
          "metadata": {},
          "execution_count": 95
        }
      ]
    },
    {
      "cell_type": "code",
      "source": [
        "model_2.summary()"
      ],
      "metadata": {
        "colab": {
          "base_uri": "https://localhost:8080/"
        },
        "id": "TbGDXyDKiV3c",
        "outputId": "87dcfece-6d91-45d1-d05e-1bc843a5c8d2"
      },
      "execution_count": null,
      "outputs": [
        {
          "output_type": "stream",
          "name": "stdout",
          "text": [
            "Model: \"fashion_mnist_exp_2\"\n",
            "_________________________________________________________________\n",
            " Layer (type)                Output Shape              Param #   \n",
            "=================================================================\n",
            " input_1 (InputLayer)        [(None, 28, 28, 1)]       0         \n",
            "                                                                 \n",
            " conv2d (Conv2D)             (None, 28, 28, 16)        80        \n",
            "                                                                 \n",
            " max_pooling2d (MaxPooling2D  (None, 28, 28, 16)       0         \n",
            " )                                                               \n",
            "                                                                 \n",
            " flatten (Flatten)           (None, 12544)             0         \n",
            "                                                                 \n",
            " dense (Dense)               (None, 10)                125450    \n",
            "                                                                 \n",
            "=================================================================\n",
            "Total params: 125,530\n",
            "Trainable params: 125,530\n",
            "Non-trainable params: 0\n",
            "_________________________________________________________________\n"
          ]
        }
      ]
    },
    {
      "cell_type": "code",
      "source": [
        "plot_history(model_2)"
      ],
      "metadata": {
        "colab": {
          "base_uri": "https://localhost:8080/",
          "height": 320
        },
        "id": "HVPrYBcBkRM8",
        "outputId": "5f8529eb-642c-42f4-81ac-e46f0c39221e"
      },
      "execution_count": null,
      "outputs": [
        {
          "output_type": "display_data",
          "data": {
            "image/png": "[encoded data removed]",
            "text/plain": [
              "<Figure size 1224x360 with 2 Axes>"
            ]
          },
          "metadata": {
            "needs_background": "light"
          }
        }
      ]
    },
    {
      "cell_type": "code",
      "source": [
        "exp2_test_preds = model_2.predict(X_test.copy().reshape(X_test.shape[0],28,28))\n",
        "exp2_val_preds = model_2.predict(X_val.copy().reshape(X_val.shape[0],28,28))"
      ],
      "metadata": {
        "id": "V2ArUexLkcOH"
      },
      "execution_count": null,
      "outputs": []
    },
    {
      "cell_type": "code",
      "source": [
        "plot_confusion_matrix(y_test, exp2_test_preds.argmax(axis = 1));"
      ],
      "metadata": {
        "colab": {
          "base_uri": "https://localhost:8080/",
          "height": 303
        },
        "id": "HFqcQXuOknDZ",
        "outputId": "86df0b1b-7bf1-4bda-a1d4-152461c39ce3"
      },
      "execution_count": null,
      "outputs": [
        {
          "output_type": "display_data",
          "data": {
            "image/png": "[encoded data removed]",
            "text/plain": [
              "<Figure size 360x360 with 2 Axes>"
            ]
          },
          "metadata": {
            "needs_background": "light"
          }
        }
      ]
    },
    {
      "cell_type": "code",
      "source": [
        "from sklearn.metrics import accuracy_score\n",
        "from sklearn.metrics import classification_report\n",
        "y_pred = model_2.predict(X_test.reshape(X_test.shape[0], 28,28), batch_size=64, verbose=1)\n",
        "y_pred_bool = np.argmax(y_pred, axis=1)\n",
        "print(\"Overall test Accuuracy Score: \", accuracy_score(y_test, y_pred_bool))\n",
        "print(classification_report(y_test, y_pred_bool))"
      ],
      "metadata": {
        "colab": {
          "base_uri": "https://localhost:8080/"
        },
        "id": "1jGfhJEjktOr",
        "outputId": "6416c290-ebe2-4172-a434-73cda3d9860a"
      },
      "execution_count": null,
      "outputs": [
        {
          "output_type": "stream",
          "name": "stdout",
          "text": [
            "157/157 [==============================] - 2s 10ms/step\n",
            "Overall test Accuuracy Score:  0.1098\n",
            "              precision    recall  f1-score   support\n",
            "\n",
            "           0       0.09      0.08      0.09      1000\n",
            "           1       0.16      0.16      0.16      1000\n",
            "           2       0.11      0.13      0.12      1000\n",
            "           3       0.13      0.14      0.13      1000\n",
            "           4       0.09      0.06      0.07      1000\n",
            "           5       0.08      0.10      0.09      1000\n",
            "           6       0.10      0.11      0.10      1000\n",
            "           7       0.10      0.12      0.11      1000\n",
            "           8       0.11      0.07      0.08      1000\n",
            "           9       0.12      0.15      0.13      1000\n",
            "\n",
            "    accuracy                           0.11     10000\n",
            "   macro avg       0.11      0.11      0.11     10000\n",
            "weighted avg       0.11      0.11      0.11     10000\n",
            "\n"
          ]
        }
      ]
    },
    {
      "cell_type": "markdown",
      "source": [
        "# Experiment 3 : 2 layer CNN"
      ],
      "metadata": {
        "id": "D5YIYjv2iXse"
      }
    },
    {
      "cell_type": "code",
      "source": [
        "from tensorflow.keras import layers\n",
        "import datetime\n",
        "time_callback_3 = TimeHistory()\n",
        "X_train_exp_3 = X_train.copy().reshape(X_train.shape[0], 28,28)\n",
        "X_val_exp_3 = X_val.copy().reshape(X_val.shape[0],28,28)\n",
        "\n",
        "tf.keras.backend.clear_session()  # For easy reset of notebook state.\n",
        "\n",
        "inputs = keras.Input(shape=(28,28, 1)) #H x W x Channels\n",
        "x = layers.Conv2D(filters = 8, kernel_size = (1,1), strides = (1,1), activation = ('relu'), padding = 'same')(inputs)\n",
        "x = layers.MaxPooling2D(2,2)(x)\n",
        "x = layers.Conv2D(filters = 8, kernel_size = (2,2), strides = (1,1), activation = ('relu'), padding = 'same')(x)\n",
        "x = layers.MaxPooling2D(1,1)(x)\n",
        "x = layers.Flatten()(x)\n",
        "outputs = layers.Dense(10 ,activation = 'softmax')(x)\n",
        "\n",
        "model_3 = keras.Model(inputs=inputs, outputs=outputs, name='fashion_mnist_exp_3')\n",
        "\n",
        "# For use with non-categorical labels\n",
        "model_3.compile(optimizer='rmsprop',           \n",
        "                loss='sparse_categorical_crossentropy',\n",
        "                metrics=['accuracy'])\n",
        "\n",
        "#FITTING, and storing for plotting and call backs\n",
        "history = model_3.fit(X_train_exp_3,y_train, validation_data = (X_val_exp_3,y_val), epochs=20, verbose = 1, callbacks = [time_callback_3])\n",
        "results['exp3'] = history.history"
      ],
      "metadata": {
        "colab": {
          "base_uri": "https://localhost:8080/"
        },
        "id": "VrMlevAbYv_s",
        "outputId": "eebe3063-5304-4874-f2d0-5125a8aeecf9"
      },
      "execution_count": null,
      "outputs": [
        {
          "output_type": "stream",
          "name": "stdout",
          "text": [
            "Epoch 1/20\n",
            "1407/1407 [==============================] - 16s 11ms/step - loss: 0.6144 - accuracy: 0.7808 - val_loss: 0.5365 - val_accuracy: 0.8019\n",
            "Epoch 2/20\n",
            "1407/1407 [==============================] - 16s 12ms/step - loss: 0.4655 - accuracy: 0.8340 - val_loss: 0.4635 - val_accuracy: 0.8353\n",
            "Epoch 3/20\n",
            "1407/1407 [==============================] - 16s 11ms/step - loss: 0.4216 - accuracy: 0.8492 - val_loss: 0.4355 - val_accuracy: 0.8446\n",
            "Epoch 4/20\n",
            "1407/1407 [==============================] - 15s 11ms/step - loss: 0.3972 - accuracy: 0.8595 - val_loss: 0.4060 - val_accuracy: 0.8573\n",
            "Epoch 5/20\n",
            "1407/1407 [==============================] - 16s 11ms/step - loss: 0.3807 - accuracy: 0.8670 - val_loss: 0.3960 - val_accuracy: 0.8620\n",
            "Epoch 6/20\n",
            "1407/1407 [==============================] - 15s 11ms/step - loss: 0.3699 - accuracy: 0.8712 - val_loss: 0.3982 - val_accuracy: 0.8590\n",
            "Epoch 7/20\n",
            "1407/1407 [==============================] - 16s 11ms/step - loss: 0.3616 - accuracy: 0.8738 - val_loss: 0.3834 - val_accuracy: 0.8656\n",
            "Epoch 8/20\n",
            "1407/1407 [==============================] - 15s 11ms/step - loss: 0.3553 - accuracy: 0.8752 - val_loss: 0.3841 - val_accuracy: 0.8650\n",
            "Epoch 9/20\n",
            "1407/1407 [==============================] - 16s 11ms/step - loss: 0.3513 - accuracy: 0.8774 - val_loss: 0.3791 - val_accuracy: 0.8677\n",
            "Epoch 10/20\n",
            "1407/1407 [==============================] - 14s 10ms/step - loss: 0.3472 - accuracy: 0.8788 - val_loss: 0.3818 - val_accuracy: 0.8651\n",
            "Epoch 11/20\n",
            "1407/1407 [==============================] - 15s 11ms/step - loss: 0.3432 - accuracy: 0.8797 - val_loss: 0.3814 - val_accuracy: 0.8634\n",
            "Epoch 12/20\n",
            "1407/1407 [==============================] - 14s 10ms/step - loss: 0.3409 - accuracy: 0.8813 - val_loss: 0.3715 - val_accuracy: 0.8699\n",
            "Epoch 13/20\n",
            "1407/1407 [==============================] - 14s 10ms/step - loss: 0.3388 - accuracy: 0.8808 - val_loss: 0.3677 - val_accuracy: 0.8713\n",
            "Epoch 14/20\n",
            "1407/1407 [==============================] - 15s 10ms/step - loss: 0.3366 - accuracy: 0.8815 - val_loss: 0.3790 - val_accuracy: 0.8687\n",
            "Epoch 15/20\n",
            "1407/1407 [==============================] - 15s 11ms/step - loss: 0.3350 - accuracy: 0.8829 - val_loss: 0.3691 - val_accuracy: 0.8713\n",
            "Epoch 16/20\n",
            "1407/1407 [==============================] - 15s 11ms/step - loss: 0.3332 - accuracy: 0.8838 - val_loss: 0.3709 - val_accuracy: 0.8700\n",
            "Epoch 17/20\n",
            "1407/1407 [==============================] - 16s 12ms/step - loss: 0.3319 - accuracy: 0.8835 - val_loss: 0.3751 - val_accuracy: 0.8670\n",
            "Epoch 18/20\n",
            "1407/1407 [==============================] - 16s 11ms/step - loss: 0.3307 - accuracy: 0.8846 - val_loss: 0.3747 - val_accuracy: 0.8681\n",
            "Epoch 19/20\n",
            "1407/1407 [==============================] - 16s 11ms/step - loss: 0.3300 - accuracy: 0.8849 - val_loss: 0.3825 - val_accuracy: 0.8645\n",
            "Epoch 20/20\n",
            "1407/1407 [==============================] - 16s 12ms/step - loss: 0.3286 - accuracy: 0.8842 - val_loss: 0.3704 - val_accuracy: 0.8686\n"
          ]
        }
      ]
    },
    {
      "cell_type": "code",
      "source": [
        "keras.utils.plot_model(model_3, 'CNN_2.png', show_shapes=True)"
      ],
      "metadata": {
        "colab": {
          "base_uri": "https://localhost:8080/",
          "height": 754
        },
        "id": "XdoVbhvHmpoy",
        "outputId": "02ca88c9-4321-49c8-a2af-1fbc02f0b8a5"
      },
      "execution_count": null,
      "outputs": [
        {
          "output_type": "execute_result",
          "data": {
            "image/png": "[encoded data removed]",
            "text/plain": [
              "<IPython.core.display.Image object>"
            ]
          },
          "metadata": {},
          "execution_count": 102
        }
      ]
    },
    {
      "cell_type": "code",
      "source": [
        "model_3.summary()"
      ],
      "metadata": {
        "colab": {
          "base_uri": "https://localhost:8080/"
        },
        "id": "QjfbzfxCmtdL",
        "outputId": "ed4289b4-a0de-4892-cc07-52d231a76c7a"
      },
      "execution_count": null,
      "outputs": [
        {
          "output_type": "stream",
          "name": "stdout",
          "text": [
            "Model: \"fashion_mnist_exp_3\"\n",
            "_________________________________________________________________\n",
            " Layer (type)                Output Shape              Param #   \n",
            "=================================================================\n",
            " input_1 (InputLayer)        [(None, 28, 28, 1)]       0         \n",
            "                                                                 \n",
            " conv2d (Conv2D)             (None, 28, 28, 8)         16        \n",
            "                                                                 \n",
            " max_pooling2d (MaxPooling2D  (None, 14, 14, 8)        0         \n",
            " )                                                               \n",
            "                                                                 \n",
            " conv2d_1 (Conv2D)           (None, 14, 14, 8)         264       \n",
            "                                                                 \n",
            " max_pooling2d_1 (MaxPooling  (None, 14, 14, 8)        0         \n",
            " 2D)                                                             \n",
            "                                                                 \n",
            " flatten (Flatten)           (None, 1568)              0         \n",
            "                                                                 \n",
            " dense (Dense)               (None, 10)                15690     \n",
            "                                                                 \n",
            "=================================================================\n",
            "Total params: 15,970\n",
            "Trainable params: 15,970\n",
            "Non-trainable params: 0\n",
            "_________________________________________________________________\n"
          ]
        }
      ]
    },
    {
      "cell_type": "code",
      "source": [
        "plot_history(model_3)"
      ],
      "metadata": {
        "colab": {
          "base_uri": "https://localhost:8080/",
          "height": 320
        },
        "id": "px2tGcYXmxNS",
        "outputId": "dcf3d5a4-1458-46b8-aa01-365399ba1aae"
      },
      "execution_count": null,
      "outputs": [
        {
          "output_type": "display_data",
          "data": {
            "image/png": "[encoded data removed]",
            "text/plain": [
              "<Figure size 1224x360 with 2 Axes>"
            ]
          },
          "metadata": {
            "needs_background": "light"
          }
        }
      ]
    },
    {
      "cell_type": "code",
      "source": [
        "exp3_test_preds = model_3.predict(X_test.copy().reshape(X_test.shape[0],28,28))\n",
        "exp3_val_preds = model_3.predict(X_val.copy().reshape(X_val.shape[0],28,28))"
      ],
      "metadata": {
        "id": "PawvYZ7GnD9E"
      },
      "execution_count": null,
      "outputs": []
    },
    {
      "cell_type": "code",
      "source": [
        "plot_confusion_matrix(y_test, exp3_test_preds.argmax(axis = 1));"
      ],
      "metadata": {
        "colab": {
          "base_uri": "https://localhost:8080/",
          "height": 309
        },
        "id": "6rMQEq3XnzlT",
        "outputId": "676f3279-ed51-495b-d82e-bddfa7ec967f"
      },
      "execution_count": null,
      "outputs": [
        {
          "output_type": "display_data",
          "data": {
            "image/png": "[encoded data removed]",
            "text/plain": [
              "<Figure size 360x360 with 2 Axes>"
            ]
          },
          "metadata": {
            "needs_background": "light"
          }
        }
      ]
    },
    {
      "cell_type": "code",
      "source": [
        "from sklearn.metrics import accuracy_score\n",
        "from sklearn.metrics import classification_report\n",
        "y_pred = model_3.predict(X_test.reshape(X_test.shape[0], 28,28), batch_size=64, verbose=1)\n",
        "y_pred_bool = np.argmax(y_pred, axis=1)\n",
        "print(\"Overall test Accuracy Score: \", accuracy_score(y_test, y_pred_bool))\n",
        "print(classification_report(y_test, y_pred_bool))"
      ],
      "metadata": {
        "colab": {
          "base_uri": "https://localhost:8080/"
        },
        "id": "QC5IeNn_n8S_",
        "outputId": "ce34d67a-1a20-43df-d56c-106c4f1399c8"
      },
      "execution_count": null,
      "outputs": [
        {
          "output_type": "stream",
          "name": "stdout",
          "text": [
            "157/157 [==============================] - 1s 6ms/step\n",
            "Overall test Accuracy Score:  0.8663\n",
            "              precision    recall  f1-score   support\n",
            "\n",
            "           0       0.75      0.88      0.81      1000\n",
            "           1       0.96      0.94      0.95      1000\n",
            "           2       0.80      0.80      0.80      1000\n",
            "           3       0.88      0.84      0.86      1000\n",
            "           4       0.76      0.80      0.78      1000\n",
            "           5       0.97      0.95      0.96      1000\n",
            "           6       0.70      0.58      0.63      1000\n",
            "           7       0.93      0.95      0.94      1000\n",
            "           8       0.96      0.96      0.96      1000\n",
            "           9       0.95      0.96      0.95      1000\n",
            "\n",
            "    accuracy                           0.87     10000\n",
            "   macro avg       0.87      0.87      0.87     10000\n",
            "weighted avg       0.87      0.87      0.87     10000\n",
            "\n"
          ]
        }
      ]
    },
    {
      "cell_type": "markdown",
      "source": [
        "# Experiment 4: 4 layer CNN"
      ],
      "metadata": {
        "id": "1U0Ahi4pp9yf"
      }
    },
    {
      "cell_type": "code",
      "source": [
        "from tensorflow.keras import layers\n",
        "import datetime\n",
        "time_callback_4 = TimeHistory()\n",
        "X_train_exp_4 = X_train.copy().reshape(X_train.shape[0], 28,28)\n",
        "X_val_exp_4 = X_val.copy().reshape(X_val.shape[0],28,28)\n",
        "\n",
        "tf.keras.backend.clear_session()  # For easy reset of notebook state.\n",
        "\n",
        "inputs = keras.Input(shape=(28,28, 1)) #H x W x Channels\n",
        "x = layers.Conv2D(filters = 56, kernel_size = (3,3), strides = (2,2), activation = ('relu'), padding = 'same')(inputs)\n",
        "x = layers.MaxPooling2D(1,1)(x)\n",
        "\n",
        "x = layers.Conv2D(filters = 96, kernel_size = (3,3), strides = (1,1), activation = ('relu'), padding = 'same')(x)\n",
        "x = layers.MaxPooling2D(1,1)(x)\n",
        "\n",
        "x = layers.Conv2D(filters = 128, kernel_size = (2,2), strides = (1,1), activation = ('relu'), padding = 'same')(x)\n",
        "x = layers.MaxPooling2D(1,1)(x)\n",
        "\n",
        "x = layers.Conv2D(filters = 128, kernel_size = (2,2), strides = (1,1), activation = ('relu'), padding = 'same')(x)\n",
        "x = layers.AveragePooling2D(2,2)(x)\n",
        "\n",
        "x = layers.Flatten()(x)\n",
        "outputs = layers.Dense(10 ,activation = 'softmax')(x)\n",
        "\n",
        "model_4 = keras.Model(inputs=inputs, outputs=outputs, name='fashion_mnist_exp_4')\n",
        "\n",
        "# For use with non-categorical labels\n",
        "model_4.compile(optimizer='rmsprop',           \n",
        "                loss='sparse_categorical_crossentropy',\n",
        "                metrics=['accuracy'])\n",
        "\n",
        "#FITTING, and storing for plotting and call backs\n",
        "history = model_4.fit(X_train_exp_4,y_train, validation_data = (X_val_exp_4,y_val), epochs=20,  verbose = 1, callbacks = [time_callback_4])\n",
        "results['exp4'] = history.history"
      ],
      "metadata": {
        "colab": {
          "base_uri": "https://localhost:8080/"
        },
        "id": "ThqutZCCoxko",
        "outputId": "ff40a289-1f01-4074-e1bc-39c37acea637"
      },
      "execution_count": null,
      "outputs": [
        {
          "output_type": "stream",
          "name": "stdout",
          "text": [
            "Epoch 1/20\n",
            "1407/1407 [==============================] - 274s 194ms/step - loss: 0.4384 - accuracy: 0.8415 - val_loss: 0.3199 - val_accuracy: 0.8875\n",
            "Epoch 2/20\n",
            "1407/1407 [==============================] - 272s 194ms/step - loss: 0.2848 - accuracy: 0.8984 - val_loss: 0.3027 - val_accuracy: 0.8949\n",
            "Epoch 3/20\n",
            "1407/1407 [==============================] - 272s 194ms/step - loss: 0.2475 - accuracy: 0.9121 - val_loss: 0.2735 - val_accuracy: 0.9019\n",
            "Epoch 4/20\n",
            "1407/1407 [==============================] - 272s 193ms/step - loss: 0.2238 - accuracy: 0.9216 - val_loss: 0.2680 - val_accuracy: 0.9085\n",
            "Epoch 5/20\n",
            "1407/1407 [==============================] - 272s 193ms/step - loss: 0.2024 - accuracy: 0.9285 - val_loss: 0.2952 - val_accuracy: 0.9069\n",
            "Epoch 6/20\n",
            "1407/1407 [==============================] - 273s 194ms/step - loss: 0.1880 - accuracy: 0.9331 - val_loss: 0.2747 - val_accuracy: 0.9044\n",
            "Epoch 7/20\n",
            "1407/1407 [==============================] - 274s 195ms/step - loss: 0.1734 - accuracy: 0.9387 - val_loss: 0.2549 - val_accuracy: 0.9139\n",
            "Epoch 8/20\n",
            "1407/1407 [==============================] - 274s 195ms/step - loss: 0.1585 - accuracy: 0.9442 - val_loss: 0.2849 - val_accuracy: 0.9034\n",
            "Epoch 9/20\n",
            "1407/1407 [==============================] - 274s 195ms/step - loss: 0.1475 - accuracy: 0.9481 - val_loss: 0.2687 - val_accuracy: 0.9135\n",
            "Epoch 10/20\n",
            "1407/1407 [==============================] - 276s 196ms/step - loss: 0.1344 - accuracy: 0.9522 - val_loss: 0.2747 - val_accuracy: 0.9150\n",
            "Epoch 11/20\n",
            "1407/1407 [==============================] - 276s 196ms/step - loss: 0.1229 - accuracy: 0.9565 - val_loss: 0.3234 - val_accuracy: 0.9148\n",
            "Epoch 12/20\n",
            "1407/1407 [==============================] - 276s 196ms/step - loss: 0.1120 - accuracy: 0.9610 - val_loss: 0.3078 - val_accuracy: 0.9143\n",
            "Epoch 13/20\n",
            "1407/1407 [==============================] - 276s 196ms/step - loss: 0.1011 - accuracy: 0.9646 - val_loss: 0.3179 - val_accuracy: 0.9089\n",
            "Epoch 14/20\n",
            "1407/1407 [==============================] - 276s 196ms/step - loss: 0.0955 - accuracy: 0.9670 - val_loss: 0.4171 - val_accuracy: 0.9001\n",
            "Epoch 15/20\n",
            "1407/1407 [==============================] - 277s 197ms/step - loss: 0.0878 - accuracy: 0.9701 - val_loss: 0.3642 - val_accuracy: 0.9113\n",
            "Epoch 16/20\n",
            "1407/1407 [==============================] - 277s 197ms/step - loss: 0.0812 - accuracy: 0.9720 - val_loss: 0.3696 - val_accuracy: 0.9076\n",
            "Epoch 17/20\n",
            "1407/1407 [==============================] - 276s 196ms/step - loss: 0.0742 - accuracy: 0.9744 - val_loss: 0.3888 - val_accuracy: 0.9112\n",
            "Epoch 18/20\n",
            "1407/1407 [==============================] - 276s 196ms/step - loss: 0.0704 - accuracy: 0.9753 - val_loss: 0.4497 - val_accuracy: 0.9125\n",
            "Epoch 19/20\n",
            "1407/1407 [==============================] - 275s 196ms/step - loss: 0.0678 - accuracy: 0.9764 - val_loss: 0.4390 - val_accuracy: 0.9101\n",
            "Epoch 20/20\n",
            "1407/1407 [==============================] - 278s 198ms/step - loss: 0.0627 - accuracy: 0.9782 - val_loss: 0.5050 - val_accuracy: 0.9109\n"
          ]
        }
      ]
    },
    {
      "cell_type": "code",
      "source": [
        "keras.utils.plot_model(model_4, 'CNN_4.png', show_shapes=True)"
      ],
      "metadata": {
        "colab": {
          "base_uri": "https://localhost:8080/",
          "height": 1000
        },
        "id": "LZ1M-OwvpQel",
        "outputId": "344c1dbd-c843-4d2c-cc8f-960d59142826"
      },
      "execution_count": null,
      "outputs": [
        {
          "output_type": "execute_result",
          "data": {
            "image/png": "[encoded data removed]",
            "text/plain": [
              "<IPython.core.display.Image object>"
            ]
          },
          "metadata": {},
          "execution_count": 115
        }
      ]
    },
    {
      "cell_type": "code",
      "source": [
        "model_4.summary()"
      ],
      "metadata": {
        "colab": {
          "base_uri": "https://localhost:8080/"
        },
        "id": "hO786kwFpe1W",
        "outputId": "1dde5cec-1e58-4e35-ff13-0c30b9788457"
      },
      "execution_count": null,
      "outputs": [
        {
          "output_type": "stream",
          "name": "stdout",
          "text": [
            "Model: \"fashion_mnist_exp_4\"\n",
            "_________________________________________________________________\n",
            " Layer (type)                Output Shape              Param #   \n",
            "=================================================================\n",
            " input_1 (InputLayer)        [(None, 28, 28, 1)]       0         \n",
            "                                                                 \n",
            " conv2d (Conv2D)             (None, 14, 14, 56)        560       \n",
            "                                                                 \n",
            " max_pooling2d (MaxPooling2D  (None, 14, 14, 56)       0         \n",
            " )                                                               \n",
            "                                                                 \n",
            " conv2d_1 (Conv2D)           (None, 14, 14, 96)        48480     \n",
            "                                                                 \n",
            " max_pooling2d_1 (MaxPooling  (None, 14, 14, 96)       0         \n",
            " 2D)                                                             \n",
            "                                                                 \n",
            " conv2d_2 (Conv2D)           (None, 14, 14, 128)       49280     \n",
            "                                                                 \n",
            " max_pooling2d_2 (MaxPooling  (None, 14, 14, 128)      0         \n",
            " 2D)                                                             \n",
            "                                                                 \n",
            " conv2d_3 (Conv2D)           (None, 14, 14, 128)       65664     \n",
            "                                                                 \n",
            " average_pooling2d (AverageP  (None, 7, 7, 128)        0         \n",
            " ooling2D)                                                       \n",
            "                                                                 \n",
            " flatten (Flatten)           (None, 6272)              0         \n",
            "                                                                 \n",
            " dense (Dense)               (None, 10)                62730     \n",
            "                                                                 \n",
            "=================================================================\n",
            "Total params: 226,714\n",
            "Trainable params: 226,714\n",
            "Non-trainable params: 0\n",
            "_________________________________________________________________\n"
          ]
        }
      ]
    },
    {
      "cell_type": "code",
      "source": [
        "exp4_test_preds = model_4.predict(X_test.copy().reshape(X_test.shape[0],28,28))\n",
        "exp4_val_preds = model_4.predict(X_val.copy().reshape(X_val.shape[0],28,28))"
      ],
      "metadata": {
        "id": "EwapwLXjqOOL"
      },
      "execution_count": null,
      "outputs": []
    },
    {
      "cell_type": "code",
      "source": [
        "from sklearn.metrics import accuracy_score\n",
        "from sklearn.metrics import classification_report\n",
        "y_pred = model_4.predict(X_test.reshape(X_test.shape[0], 28,28), batch_size=64, verbose=1)\n",
        "y_pred_bool = np.argmax(y_pred, axis=1)\n",
        "print(\"Overall test Accuracy Score: \", accuracy_score(y_test, y_pred_bool))\n",
        "print(classification_report(y_test, y_pred_bool))"
      ],
      "metadata": {
        "colab": {
          "base_uri": "https://localhost:8080/"
        },
        "id": "6yL9AZ0x5Hbs",
        "outputId": "5a2f9226-649d-4cc5-b64b-a6d8ad1629bf"
      },
      "execution_count": null,
      "outputs": [
        {
          "output_type": "stream",
          "name": "stdout",
          "text": [
            "157/157 [==============================] - 13s 86ms/step\n",
            "Overall test Accuracy Score:  0.912\n",
            "              precision    recall  f1-score   support\n",
            "\n",
            "           0       0.83      0.88      0.86      1000\n",
            "           1       1.00      0.98      0.99      1000\n",
            "           2       0.85      0.90      0.87      1000\n",
            "           3       0.93      0.90      0.91      1000\n",
            "           4       0.84      0.89      0.87      1000\n",
            "           5       0.98      0.98      0.98      1000\n",
            "           6       0.79      0.68      0.73      1000\n",
            "           7       0.96      0.96      0.96      1000\n",
            "           8       0.98      0.98      0.98      1000\n",
            "           9       0.96      0.96      0.96      1000\n",
            "\n",
            "    accuracy                           0.91     10000\n",
            "   macro avg       0.91      0.91      0.91     10000\n",
            "weighted avg       0.91      0.91      0.91     10000\n",
            "\n"
          ]
        }
      ]
    },
    {
      "cell_type": "code",
      "source": [
        "def plot_accuracies(ax):\n",
        "  ax.plot(results['exp1']['val_accuracy'], label = \"DNN\")\n",
        "  ax.plot(results['exp2']['val_accuracy'], label = \"CNN 1L\")\n",
        "  ax.plot(results['exp3']['val_accuracy'], label = \"CNN 2L\")\n",
        "  ax.plot(results['exp4']['val_accuracy'], label = \"CNN 4L\")\n",
        "  ax.grid();\n",
        "  ax.legend();\n",
        "\n",
        "\n",
        "\n",
        "def plot_losses(ax):\n",
        "  ax.plot(results['exp1']['val_loss'], label = \"DNN\")\n",
        "  ax.plot(results['exp2']['val_loss'], label = \"CNN 1L\")\n",
        "  ax.plot(results['exp3']['val_loss'], label = \"CNN 2L\")\n",
        "  ax.plot(results['exp4']['val_loss'], label = \"CNN 4L\")\n",
        "  ax.grid();\n",
        "  ax.legend();\n",
        "\n",
        "\n",
        "def plot_times(ax):\n",
        "  ax.plot(time_callback_1.times, label = \"DNN\")\n",
        "  ax.plot(time_callback_2.times, label = \"CNN 1L\")\n",
        "  ax.plot(time_callback_3.times, label = \"CNN 2L\")\n",
        "  ax.plot(time_callback_4.times, label = \"CNN 4L\")\n",
        "  ax.grid();\n",
        "  ax.legend();\n",
        "\n",
        "\n",
        "time_callback_1.times\n",
        "fig, (ax1, ax2,ax3) = plt.subplots(3,1, figsize = (15,16))\n",
        "plot_accuracies(ax1)\n",
        "plot_losses(ax2)\n",
        "plot_times(ax3)"
      ],
      "metadata": {
        "colab": {
          "base_uri": "https://localhost:8080/",
          "height": 1000
        },
        "id": "0z_qQ3Beshzo",
        "outputId": "15214f8c-8a58-4397-d112-a642da557873"
      },
      "execution_count": null,
      "outputs": [
        {
          "output_type": "execute_result",
          "data": {
            "text/plain": [
              "[5.2225182056427,\n",
              " 4.48299503326416,\n",
              " 4.330639839172363,\n",
              " 4.31791877746582,\n",
              " 4.084426403045654,\n",
              " 4.407408237457275,\n",
              " 4.069575309753418,\n",
              " 4.071123838424683,\n",
              " 4.078709840774536,\n",
              " 4.183614253997803,\n",
              " 4.1698079109191895,\n",
              " 4.272640943527222,\n",
              " 4.464002847671509,\n",
              " 4.0653746128082275,\n",
              " 4.205553293228149,\n",
              " 4.155398368835449,\n",
              " 4.150553226470947,\n",
              " 4.135494232177734,\n",
              " 4.157462120056152,\n",
              " 4.28178071975708]"
            ]
          },
          "metadata": {},
          "execution_count": 118
        },
        {
          "output_type": "display_data",
          "data": {
            "image/png": "[encoded data removed]",
            "text/plain": [
              "<Figure size 1080x1152 with 3 Axes>"
            ]
          },
          "metadata": {
            "needs_background": "light"
          }
        }
      ]
    },
    {
      "cell_type": "code",
      "source": [
        "df = pd.concat([\n",
        "           pd.DataFrame(results['exp1']),\n",
        "           pd.DataFrame(results['exp2']),\n",
        "           pd.DataFrame(results['exp3']),\n",
        "           pd.DataFrame(results['exp4']),\n",
        "]) "
      ],
      "metadata": {
        "id": "CLABeBE_x_jI"
      },
      "execution_count": null,
      "outputs": []
    },
    {
      "cell_type": "code",
      "source": [
        "df['epochs'] = [*range(1,21)]*4"
      ],
      "metadata": {
        "id": "BYOEVqqMyENR"
      },
      "execution_count": null,
      "outputs": []
    },
    {
      "cell_type": "code",
      "source": [
        "df['time'] =  pd.concat(map(pd.DataFrame,[time_callback_1.times,\n",
        "  time_callback_2.times,\n",
        "  time_callback_3.times,\n",
        "  time_callback_4.times,]), axis = 1).melt()['value'].values\n",
        "\n",
        "\n",
        "e = 20\n",
        "l = ['Exp1', 'Exp2', 'Exp3', 'Exp4']\n",
        "df['model'] = [ele for ele in l for i in range(e)]"
      ],
      "metadata": {
        "id": "HIOASKthyGoH"
      },
      "execution_count": null,
      "outputs": []
    },
    {
      "cell_type": "code",
      "source": [
        "df.to_csv('time.csv')"
      ],
      "metadata": {
        "id": "o8rWhdk9yMAF"
      },
      "execution_count": null,
      "outputs": []
    }
  ]
}