{
  "cells": [
    {
      "cell_type": "markdown",
      "metadata": {
        "id": "view-in-github",
        "colab_type": "text"
      },
      "source": [
        "<a href=\"https://colab.research.google.com/github/parviza9999/MSDS462/blob/main/MSDS462_video3_Google_Vision_API.ipynb\" target=\"_parent\"><img src=\"https://colab.research.google.com/assets/colab-badge.svg\" alt=\"Open In Colab\"/></a>"
      ]
    },
    {
      "cell_type": "raw",
      "metadata": {
        "id": "bV_l2-NQXSe7"
      },
      "source": [
        "Steps:\n",
        "    \n",
        "1. Visit https://console.cloud.google.com/\n",
        "\n",
        "2. Create a new project if none exist (otherwise you can use an existing one)\n",
        "\n",
        "3. Click \"Go to APIs Overview\" -> Click \"Enable APIs and Services\" -> Enable the \"Cloud Vision API\"\n",
        "\n",
        "4. Click the \"Credentials\" tab on the left. Click \"+ CREATE CREDENTIALS\" at the top and choose \"Service Account\". Give the service account a name and click \"Create\"\n",
        "\n",
        "5. Click on the newly created service account, ensure it is enabled, and click \"ADD KEY\" -> \"Create new key\". Pick \"JSON\" and download the json file and store it in the current working directory.\n",
        "\n",
        "6. Run the cells in this notebook."
      ]
    },
    {
      "cell_type": "code",
      "execution_count": 2,
      "metadata": {
        "colab": {
          "base_uri": "https://localhost:8080/"
        },
        "id": "LQ8MBpqUXSe9",
        "outputId": "f90b99bc-418c-4c49-c3fc-bb7d75268ce9"
      },
      "outputs": [
        {
          "output_type": "stream",
          "name": "stdout",
          "text": [
            "Requirement already satisfied: google-cloud-vision in /usr/local/lib/python3.7/dist-packages (2.6.3)\n",
            "Requirement already satisfied: proto-plus>=1.15.0 in /usr/local/lib/python3.7/dist-packages (from google-cloud-vision) (1.19.8)\n",
            "Requirement already satisfied: google-api-core[grpc]<3.0.0dev,>=1.28.0 in /usr/local/lib/python3.7/dist-packages (from google-cloud-vision) (2.4.0)\n",
            "Requirement already satisfied: requests<3.0.0dev,>=2.18.0 in /usr/local/lib/python3.7/dist-packages (from google-api-core[grpc]<3.0.0dev,>=1.28.0->google-cloud-vision) (2.23.0)\n",
            "Requirement already satisfied: protobuf>=3.12.0 in /usr/local/lib/python3.7/dist-packages (from google-api-core[grpc]<3.0.0dev,>=1.28.0->google-cloud-vision) (3.19.3)\n",
            "Requirement already satisfied: google-auth<3.0dev,>=1.25.0 in /usr/local/lib/python3.7/dist-packages (from google-api-core[grpc]<3.0.0dev,>=1.28.0->google-cloud-vision) (1.35.0)\n",
            "Requirement already satisfied: googleapis-common-protos<2.0dev,>=1.52.0 in /usr/local/lib/python3.7/dist-packages (from google-api-core[grpc]<3.0.0dev,>=1.28.0->google-cloud-vision) (1.54.0)\n",
            "Requirement already satisfied: setuptools>=40.3.0 in /usr/local/lib/python3.7/dist-packages (from google-api-core[grpc]<3.0.0dev,>=1.28.0->google-cloud-vision) (57.4.0)\n",
            "Requirement already satisfied: grpcio<2.0dev,>=1.33.2 in /usr/local/lib/python3.7/dist-packages (from google-api-core[grpc]<3.0.0dev,>=1.28.0->google-cloud-vision) (1.43.0)\n",
            "Requirement already satisfied: grpcio-status<2.0dev,>=1.33.2 in /usr/local/lib/python3.7/dist-packages (from google-api-core[grpc]<3.0.0dev,>=1.28.0->google-cloud-vision) (1.43.0)\n",
            "Requirement already satisfied: cachetools<5.0,>=2.0.0 in /usr/local/lib/python3.7/dist-packages (from google-auth<3.0dev,>=1.25.0->google-api-core[grpc]<3.0.0dev,>=1.28.0->google-cloud-vision) (4.2.4)\n",
            "Requirement already satisfied: six>=1.9.0 in /usr/local/lib/python3.7/dist-packages (from google-auth<3.0dev,>=1.25.0->google-api-core[grpc]<3.0.0dev,>=1.28.0->google-cloud-vision) (1.15.0)\n",
            "Requirement already satisfied: rsa<5,>=3.1.4 in /usr/local/lib/python3.7/dist-packages (from google-auth<3.0dev,>=1.25.0->google-api-core[grpc]<3.0.0dev,>=1.28.0->google-cloud-vision) (4.8)\n",
            "Requirement already satisfied: pyasn1-modules>=0.2.1 in /usr/local/lib/python3.7/dist-packages (from google-auth<3.0dev,>=1.25.0->google-api-core[grpc]<3.0.0dev,>=1.28.0->google-cloud-vision) (0.2.8)\n",
            "Requirement already satisfied: pyasn1<0.5.0,>=0.4.6 in /usr/local/lib/python3.7/dist-packages (from pyasn1-modules>=0.2.1->google-auth<3.0dev,>=1.25.0->google-api-core[grpc]<3.0.0dev,>=1.28.0->google-cloud-vision) (0.4.8)\n",
            "Requirement already satisfied: urllib3!=1.25.0,!=1.25.1,<1.26,>=1.21.1 in /usr/local/lib/python3.7/dist-packages (from requests<3.0.0dev,>=2.18.0->google-api-core[grpc]<3.0.0dev,>=1.28.0->google-cloud-vision) (1.24.3)\n",
            "Requirement already satisfied: certifi>=2017.4.17 in /usr/local/lib/python3.7/dist-packages (from requests<3.0.0dev,>=2.18.0->google-api-core[grpc]<3.0.0dev,>=1.28.0->google-cloud-vision) (2021.10.8)\n",
            "Requirement already satisfied: idna<3,>=2.5 in /usr/local/lib/python3.7/dist-packages (from requests<3.0.0dev,>=2.18.0->google-api-core[grpc]<3.0.0dev,>=1.28.0->google-cloud-vision) (2.10)\n",
            "Requirement already satisfied: chardet<4,>=3.0.2 in /usr/local/lib/python3.7/dist-packages (from requests<3.0.0dev,>=2.18.0->google-api-core[grpc]<3.0.0dev,>=1.28.0->google-cloud-vision) (3.0.4)\n"
          ]
        }
      ],
      "source": [
        "pip install google-cloud-vision"
      ]
    },
    {
      "cell_type": "code",
      "execution_count": 17,
      "metadata": {
        "id": "kExRNjpdXSe_"
      },
      "outputs": [],
      "source": [
        "import os\n",
        "\n",
        "#from google.cloud import vision\n",
        "#from google.cloud.vision import types\n",
        "from google.cloud import vision_v1\n",
        "from google.cloud.vision_v1 import types\n",
        "request = vision_v1.GetProductSetRequest(name=\"name\")"
      ]
    },
    {
      "cell_type": "code",
      "source": [
        "from google.colab import drive\n",
        "drive.mount('/content/drive')"
      ],
      "metadata": {
        "colab": {
          "base_uri": "https://localhost:8080/"
        },
        "id": "q34wUSqcZoiv",
        "outputId": "caccc6ca-ed8a-4dd4-f413-e8f6331aff91"
      },
      "execution_count": 8,
      "outputs": [
        {
          "output_type": "stream",
          "name": "stdout",
          "text": [
            "Mounted at /content/drive\n"
          ]
        }
      ]
    },
    {
      "cell_type": "code",
      "execution_count": 11,
      "metadata": {
        "id": "KJibPPTDXSfA"
      },
      "outputs": [],
      "source": [
        "#the JSON file you downloaded in step 5 above\n",
        "os.environ['GOOGLE_APPLICATION_CREDENTIALS'] = '/content/drive/MyDrive/Colab Notebooks/MSDS462/avian-altar-238103-d736df7b3dcc.json'"
      ]
    },
    {
      "cell_type": "code",
      "execution_count": 12,
      "metadata": {
        "id": "RY8UDUPoXSfA"
      },
      "outputs": [],
      "source": [
        "# Instantiates a client\n",
        "client = vision.ImageAnnotatorClient()"
      ]
    },
    {
      "cell_type": "code",
      "execution_count": 39,
      "metadata": {
        "id": "rGndRg-QXSfB"
      },
      "outputs": [],
      "source": [
        "#set this thumbnail as the url\n",
        "image = types.Image()\n",
        "#image.source.image_uri = 'https://i.ytimg.com/vi/UQQHSbeIaB0/maxresdefault.jpg'\n",
        "#image.source.image_uri = 'https://i.imgur.com/OiBEhTv.jpg'\n",
        "#image.source.image_uri = 'https://i.imgur.com/jt9OoBH.jpg'\n",
        "image.source.image_uri = 'https://i.imgur.com/j0hesxk.jpg'"
      ]
    },
    {
      "cell_type": "code",
      "execution_count": 40,
      "metadata": {
        "colab": {
          "base_uri": "https://localhost:8080/"
        },
        "id": "6sTblj1CXSfB",
        "outputId": "c58aae74-2822-4573-cbc2-539bd62f4e89"
      },
      "outputs": [
        {
          "output_type": "stream",
          "name": "stdout",
          "text": [
            "{'label': 'Face', 'score': 0.9838095307350159}\n",
            "{'label': 'Photograph', 'score': 0.9432656764984131}\n",
            "{'label': 'Facial expression', 'score': 0.9328928589820862}\n",
            "{'label': 'Green', 'score': 0.9269730448722839}\n",
            "{'label': 'Product', 'score': 0.9076767563819885}\n",
            "{'label': 'Human', 'score': 0.8903233408927917}\n",
            "{'label': 'Happy', 'score': 0.870790421962738}\n",
            "{'label': 'Gesture', 'score': 0.8526048064231873}\n",
            "{'label': 'Flash photography', 'score': 0.8338105082511902}\n",
            "{'label': 'Baby', 'score': 0.8169177770614624}\n"
          ]
        }
      ],
      "source": [
        "#### LABEL DETECTION ######\n",
        "\n",
        "response_label = client.label_detection(image=image)\n",
        "\n",
        "for label in response_label.label_annotations:\n",
        "    print({'label': label.description, 'score': label.score})"
      ]
    },
    {
      "cell_type": "code",
      "execution_count": 41,
      "metadata": {
        "colab": {
          "base_uri": "https://localhost:8080/"
        },
        "id": "FJvVCEowXSfC",
        "outputId": "e164451d-406c-42f9-c283-1c33b9916940"
      },
      "outputs": [
        {
          "output_type": "stream",
          "name": "stdout",
          "text": [
            "{'confidence': 0.731247067451477, 'joy': <Likelihood.VERY_UNLIKELY: 1>, 'sorrow': <Likelihood.VERY_UNLIKELY: 1>, 'surprise': <Likelihood.VERY_UNLIKELY: 1>, 'anger': <Likelihood.VERY_UNLIKELY: 1>}\n",
            "{'confidence': 0.4121221899986267, 'joy': <Likelihood.VERY_UNLIKELY: 1>, 'sorrow': <Likelihood.VERY_UNLIKELY: 1>, 'surprise': <Likelihood.VERY_UNLIKELY: 1>, 'anger': <Likelihood.VERY_UNLIKELY: 1>}\n",
            "{'confidence': 0.9533922672271729, 'joy': <Likelihood.UNLIKELY: 2>, 'sorrow': <Likelihood.VERY_UNLIKELY: 1>, 'surprise': <Likelihood.VERY_UNLIKELY: 1>, 'anger': <Likelihood.VERY_UNLIKELY: 1>}\n",
            "{'confidence': 0.9436191320419312, 'joy': <Likelihood.VERY_LIKELY: 5>, 'sorrow': <Likelihood.VERY_UNLIKELY: 1>, 'surprise': <Likelihood.VERY_UNLIKELY: 1>, 'anger': <Likelihood.VERY_UNLIKELY: 1>}\n",
            "{'confidence': 0.8237664103507996, 'joy': <Likelihood.VERY_UNLIKELY: 1>, 'sorrow': <Likelihood.VERY_UNLIKELY: 1>, 'surprise': <Likelihood.VERY_UNLIKELY: 1>, 'anger': <Likelihood.VERY_UNLIKELY: 1>}\n",
            "{'confidence': 0.21066424250602722, 'joy': <Likelihood.VERY_UNLIKELY: 1>, 'sorrow': <Likelihood.VERY_UNLIKELY: 1>, 'surprise': <Likelihood.VERY_UNLIKELY: 1>, 'anger': <Likelihood.VERY_UNLIKELY: 1>}\n",
            "{'confidence': 0.8620227575302124, 'joy': <Likelihood.VERY_UNLIKELY: 1>, 'sorrow': <Likelihood.VERY_UNLIKELY: 1>, 'surprise': <Likelihood.VERY_UNLIKELY: 1>, 'anger': <Likelihood.VERY_UNLIKELY: 1>}\n"
          ]
        }
      ],
      "source": [
        "#### FACE DETECTION ######\n",
        "\n",
        "response_face = client.face_detection(image=image)\n",
        "\n",
        "face_data = []\n",
        "\n",
        "for face_detection in response_face.face_annotations:\n",
        "    d = {\n",
        "        'confidence': face_detection.detection_confidence,\n",
        "        'joy': face_detection.joy_likelihood,\n",
        "        'sorrow': face_detection.sorrow_likelihood,\n",
        "        'surprise': face_detection.surprise_likelihood,\n",
        "        'anger': face_detection.anger_likelihood\n",
        "    }\n",
        "    print(d)\n",
        "    "
      ]
    },
    {
      "cell_type": "code",
      "execution_count": 42,
      "metadata": {
        "colab": {
          "base_uri": "https://localhost:8080/"
        },
        "id": "-CRbgtQtXSfD",
        "outputId": "ac69ec89-5582-4798-efca-6dd3dd1b8ae1"
      },
      "outputs": [
        {
          "output_type": "stream",
          "name": "stdout",
          "text": [
            "{'color': red: 20.0\n",
            "green: 20.0\n",
            "blue: 23.0\n",
            ", 'score': 0.10235946625471115, 'pixel_fraction': 0.13193799555301666}\n",
            "{'color': red: 97.0\n",
            "green: 81.0\n",
            "blue: 64.0\n",
            ", 'score': 0.09920136630535126, 'pixel_fraction': 0.084943026304245}\n",
            "{'color': red: 240.0\n",
            "green: 242.0\n",
            "blue: 238.0\n",
            ", 'score': 0.09776416420936584, 'pixel_fraction': 0.14636412262916565}\n"
          ]
        }
      ],
      "source": [
        "#### IMAGE PROPERTIES ######\n",
        "\n",
        "response_image = client.image_properties(image=image)\n",
        "\n",
        "image_data = []\n",
        "\n",
        "for c in response_image.image_properties_annotation.dominant_colors.colors[:3]:\n",
        "    d = {\n",
        "        'color': c.color,\n",
        "        'score': c.score,\n",
        "        'pixel_fraction': c.pixel_fraction\n",
        "    }\n",
        "    print(d)"
      ]
    },
    {
      "cell_type": "code",
      "execution_count": 43,
      "metadata": {
        "colab": {
          "base_uri": "https://localhost:8080/"
        },
        "id": "RHvgFQaDXSfD",
        "outputId": "f15d86f4-c267-4bbb-d616-4ad0173804f2"
      },
      "outputs": [
        {
          "output_type": "stream",
          "name": "stdout",
          "text": [
            "{'text': 'INTRODUCING OUR SON\\nRyan\\nTIMOTHY WEISS\\n18T5\\nWELCOMED WTH\\nОСТОВER\\n20\\n12:05 PM\\n7 OOUNDS 15 OUNCES\\n21.5 INCHES\\nB\\nDILLON\\n'}\n",
            "{'text': 'INTRODUCING'}\n",
            "{'text': 'OUR'}\n",
            "{'text': 'SON'}\n",
            "{'text': 'Ryan'}\n",
            "{'text': 'TIMOTHY'}\n",
            "{'text': 'WEISS'}\n",
            "{'text': '18T5'}\n",
            "{'text': 'WELCOMED'}\n",
            "{'text': 'WTH'}\n",
            "{'text': 'ОСТОВER'}\n",
            "{'text': '20'}\n",
            "{'text': '12:05'}\n",
            "{'text': 'PM'}\n",
            "{'text': '7'}\n",
            "{'text': 'OOUNDS'}\n",
            "{'text': '15'}\n",
            "{'text': 'OUNCES'}\n",
            "{'text': '21.5'}\n",
            "{'text': 'INCHES'}\n",
            "{'text': 'B'}\n",
            "{'text': 'DILLON'}\n"
          ]
        }
      ],
      "source": [
        "#### TEXT DETECTION ######\n",
        "\n",
        "response_text = client.text_detection(image=image)\n",
        "\n",
        "for r in response_text.text_annotations:\n",
        "    d = {\n",
        "        'text': r.description\n",
        "    }\n",
        "    print(d)"
      ]
    },
    {
      "cell_type": "code",
      "execution_count": null,
      "metadata": {
        "id": "rQv0S2M1XSfE"
      },
      "outputs": [],
      "source": [
        ""
      ]
    }
  ],
  "metadata": {
    "kernelspec": {
      "display_name": "Python 3",
      "language": "python",
      "name": "python3"
    },
    "language_info": {
      "codemirror_mode": {
        "name": "ipython",
        "version": 3
      },
      "file_extension": ".py",
      "mimetype": "text/x-python",
      "name": "python",
      "nbconvert_exporter": "python",
      "pygments_lexer": "ipython3",
      "version": "3.7.7"
    },
    "colab": {
      "name": "MSDS462_video3_Google Vision API.ipynb",
      "provenance": [],
      "collapsed_sections": [],
      "include_colab_link": true
    }
  },
  "nbformat": 4,
  "nbformat_minor": 0
}